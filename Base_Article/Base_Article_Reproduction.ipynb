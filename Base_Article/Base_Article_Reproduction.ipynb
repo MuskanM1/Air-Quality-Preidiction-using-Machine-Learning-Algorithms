{
  "nbformat": 4,
  "nbformat_minor": 0,
  "metadata": {
    "colab": {
      "name": "Base_Article_Reproduction.ipynb",
      "provenance": [],
      "collapsed_sections": []
    },
    "kernelspec": {
      "name": "python3",
      "display_name": "Python 3"
    }
  },
  "cells": [
    {
      "cell_type": "code",
      "metadata": {
        "id": "s51V1PH1M7-C",
        "colab_type": "code",
        "colab": {}
      },
      "source": [
        "from pydrive.auth import GoogleAuth\n",
        "from pydrive.drive import GoogleDrive\n",
        "from google.colab import auth\n",
        "from oauth2client.client import GoogleCredentials"
      ],
      "execution_count": 0,
      "outputs": []
    },
    {
      "cell_type": "code",
      "metadata": {
        "id": "vfSJzdf4M8yo",
        "colab_type": "code",
        "colab": {}
      },
      "source": [
        "auth.authenticate_user()\n",
        "gauth = GoogleAuth()\n",
        "gauth.credentials = GoogleCredentials.get_application_default()\n",
        "drive = GoogleDrive(gauth)"
      ],
      "execution_count": 0,
      "outputs": []
    },
    {
      "cell_type": "code",
      "metadata": {
        "id": "T-n7hknzM_wW",
        "colab_type": "code",
        "colab": {}
      },
      "source": [
        "downloaded = drive.CreateFile({'id':\"13xmiSh8AgQjj6BJ7Dxu_byo59bnlUT8h\"})   # replace the id with id of file you want to access\n",
        "downloaded.GetContentFile('data.csv')        # replace the file name with your file"
      ],
      "execution_count": 0,
      "outputs": []
    },
    {
      "cell_type": "code",
      "metadata": {
        "id": "lMW67gYvLUYy",
        "colab_type": "code",
        "outputId": "e737f33a-6706-405d-c721-26f38e5bf9d1",
        "colab": {
          "base_uri": "https://localhost:8080/",
          "height": 71
        }
      },
      "source": [
        "import numpy as np\n",
        "import pandas as pd\n",
        "import seaborn as sns\n",
        "import matplotlib.pyplot as plt\n",
        "%matplotlib inline\n",
        "from sklearn.model_selection import train_test_split, KFold, cross_val_score\n",
        "from sklearn.metrics import mean_squared_log_error, mean_squared_error, r2_score\n",
        "from sklearn.linear_model import LinearRegression\n",
        "from sklearn.ensemble import GradientBoostingClassifier\n",
        "from sklearn.tree import DecisionTreeRegressor\n",
        "import warnings; warnings.simplefilter('ignore')"
      ],
      "execution_count": 0,
      "outputs": [
        {
          "output_type": "stream",
          "text": [
            "/usr/local/lib/python3.6/dist-packages/statsmodels/tools/_testing.py:19: FutureWarning: pandas.util.testing is deprecated. Use the functions in the public API at pandas.testing instead.\n",
            "  import pandas.util.testing as tm\n"
          ],
          "name": "stderr"
        }
      ]
    },
    {
      "cell_type": "code",
      "metadata": {
        "id": "AQIFcuI-M5rQ",
        "colab_type": "code",
        "colab": {}
      },
      "source": [
        "dataset = pd.read_csv('data.csv',encoding=\"ISO-8859-1\") #dataset incorporation\n",
        "dataset.drop(['stn_code','agency','sampling_date','location_monitoring_station'], axis=1,inplace=True)"
      ],
      "execution_count": 0,
      "outputs": []
    },
    {
      "cell_type": "code",
      "metadata": {
        "id": "4hhi2809NZBj",
        "colab_type": "code",
        "colab": {}
      },
      "source": [
        "# Removing outliers ( )\n",
        "def remove_outlier(df_in, col_name):\n",
        "    q1 = df_in[col_name].quantile(0.25)  #it is middle number between smallest value and median\n",
        "    q3 = df_in[col_name].quantile(0.75) #it is middle number between largest value and median\n",
        "    iqr = q3-q1    #Interquartile range\n",
        "    low_range  = q1-1.5*iqr  #any number suspected lower than this value is suspected outlier\n",
        "    high_range = q3+1.5*iqr  #any number suspected higher than this value is suspected outlier\n",
        "    df_out = df_in.loc[(df_in[col_name] > low_range) & (df_in[col_name] < high_range)]   # limiting the dataset values to just the range where outliers does not exists\n",
        "\n",
        "# calling function to remove outlier values from the pollutant columns of the dataset\n",
        "remove_outlier(dataset,'so2')\n",
        "remove_outlier(dataset,'no2')\n",
        "remove_outlier(dataset,'rspm')\n",
        "remove_outlier(dataset,'spm')"
      ],
      "execution_count": 0,
      "outputs": []
    },
    {
      "cell_type": "code",
      "metadata": {
        "id": "V1TG4u92Nc5O",
        "colab_type": "code",
        "colab": {}
      },
      "source": [
        "statewise = dataset.groupby('state')      #grouping dataset by state\n",
        "\n",
        "# filling the nan values with the mean of that column \n",
        "def calc_mean(series):\n",
        "    return series.fillna(series.mean()) \n",
        "\n",
        "dataset['rspm'] = statewise['rspm'].transform(calc_mean) #transforming null values in rspm column\n",
        "dataset['so2'] = statewise['so2'].transform(calc_mean) #transforming null values in so2 column\n",
        "dataset['no2'] = statewise['no2'].transform(calc_mean) #transforming null values in no2 column\n",
        "dataset['spm'] = statewise['spm'].transform(calc_mean)#transforming null values in spm column\n",
        "dataset['pm2_5'] = statewise['pm2_5'].transform(calc_mean) #transforming null values in pm25 column"
      ],
      "execution_count": 0,
      "outputs": []
    },
    {
      "cell_type": "code",
      "metadata": {
        "id": "0xR3yd6oNh-b",
        "colab_type": "code",
        "outputId": "3ba9ba2a-1393-495b-c1af-cb5fc91e24f3",
        "colab": {
          "base_uri": "https://localhost:8080/",
          "height": 204
        }
      },
      "source": [
        "# Derivation for Individual Pollutant Index and AQI STARTS HERE\n",
        "\n",
        "# EPA METHOD FORMULA\n",
        "#  AQI_{P} = AQI_{min} +  ({PM_{Obs}-PM_{Min}}/{(PM_{Max}-PM_{Min})})* {AQI_{Max}-AQI_{Min}}\n",
        "\n",
        "# calculating AQI index of SO2 pollutant by EPA method formula given above\n",
        "#  SO2 is scaled between 0-1600\n",
        "def calculate_si(so2):\n",
        "    si=0\n",
        "    if (so2<=40):\n",
        "     si = so2 * (50/40)\n",
        "    elif (so2>40 and so2<=80):\n",
        "     si = 50 + (so2-40) * (50/(80-40))\n",
        "    elif (so2>80 and so2<=380):\n",
        "     si = 100 + (so2-80) * (100/(380-80))\n",
        "    elif (so2>380 and so2<=800):\n",
        "     si = 200 + (so2-380) * (100/(800-380))\n",
        "    elif (so2>800 and so2<=1600):\n",
        "     si = 300 + (so2-800) * (100/(1600-800))\n",
        "    elif (so2>1600):\n",
        "     si = 400 + (so2-1600) * (100/800)\n",
        "    return si\n",
        "\n",
        "# calling the function to calulate so2 pollutant index\n",
        "dataset['si'] = dataset['so2'].apply(calculate_si)\n",
        "df_si = dataset[['so2','si']]\n",
        "df_si.head()"
      ],
      "execution_count": 0,
      "outputs": [
        {
          "output_type": "execute_result",
          "data": {
            "text/html": [
              "<div>\n",
              "<style scoped>\n",
              "    .dataframe tbody tr th:only-of-type {\n",
              "        vertical-align: middle;\n",
              "    }\n",
              "\n",
              "    .dataframe tbody tr th {\n",
              "        vertical-align: top;\n",
              "    }\n",
              "\n",
              "    .dataframe thead th {\n",
              "        text-align: right;\n",
              "    }\n",
              "</style>\n",
              "<table border=\"1\" class=\"dataframe\">\n",
              "  <thead>\n",
              "    <tr style=\"text-align: right;\">\n",
              "      <th></th>\n",
              "      <th>so2</th>\n",
              "      <th>si</th>\n",
              "    </tr>\n",
              "  </thead>\n",
              "  <tbody>\n",
              "    <tr>\n",
              "      <th>0</th>\n",
              "      <td>4.8</td>\n",
              "      <td>6.000</td>\n",
              "    </tr>\n",
              "    <tr>\n",
              "      <th>1</th>\n",
              "      <td>3.1</td>\n",
              "      <td>3.875</td>\n",
              "    </tr>\n",
              "    <tr>\n",
              "      <th>2</th>\n",
              "      <td>6.2</td>\n",
              "      <td>7.750</td>\n",
              "    </tr>\n",
              "    <tr>\n",
              "      <th>3</th>\n",
              "      <td>6.3</td>\n",
              "      <td>7.875</td>\n",
              "    </tr>\n",
              "    <tr>\n",
              "      <th>4</th>\n",
              "      <td>4.7</td>\n",
              "      <td>5.875</td>\n",
              "    </tr>\n",
              "  </tbody>\n",
              "</table>\n",
              "</div>"
            ],
            "text/plain": [
              "   so2     si\n",
              "0  4.8  6.000\n",
              "1  3.1  3.875\n",
              "2  6.2  7.750\n",
              "3  6.3  7.875\n",
              "4  4.7  5.875"
            ]
          },
          "metadata": {
            "tags": []
          },
          "execution_count": 44
        }
      ]
    },
    {
      "cell_type": "code",
      "metadata": {
        "id": "DBjY3d0tNn1u",
        "colab_type": "code",
        "outputId": "92a01575-ad9c-493e-e5d6-14c23519695a",
        "colab": {
          "base_uri": "https://localhost:8080/",
          "height": 204
        }
      },
      "source": [
        "#Function to calculate no2 individual pollutant index(ni)\n",
        "\n",
        "# EPA METHOD FORMULA\n",
        "#  AQI_{PM} = AQI_{min} +  ({PM_{Obs}-PM_{Min}}/{(PM_{Max}-PM_{Min})})* {AQI_{Max}-AQI_{Min}}\n",
        "\n",
        "# calculating AQI index of NO2 pollutant by EPA method formula given above\n",
        "#  NO2 is scaled between 0-400\n",
        "def calculate_ni(no2):\n",
        "    ni = 0\n",
        "    if(no2<=40):\n",
        "     ni = no2*50/40\n",
        "    elif(no2>40 and no2<=80):\n",
        "     ni = 50 + (no2-40)*(50/(80-40))\n",
        "    elif(no2>80 and no2<=180):\n",
        "     ni = 100 + (no2-80)*(100/(180-80))\n",
        "    elif(no2>180 and no2<=280):\n",
        "     ni = 200 + (no2-180)*(100/(280-180))\n",
        "    elif(no2>280 and no2<=400):\n",
        "     ni = 300 + (no2-280)*(100/(400-280))\n",
        "    else:\n",
        "     ni = 400 + (no2-400)*(100/120)\n",
        "    return ni\n",
        "\n",
        "# calling the function to calulate so2 pollutant index\n",
        "dataset['ni'] = dataset['no2'].apply(calculate_ni)\n",
        "df_ni = dataset[['no2','ni']]\n",
        "df_ni.head()"
      ],
      "execution_count": 0,
      "outputs": [
        {
          "output_type": "execute_result",
          "data": {
            "text/html": [
              "<div>\n",
              "<style scoped>\n",
              "    .dataframe tbody tr th:only-of-type {\n",
              "        vertical-align: middle;\n",
              "    }\n",
              "\n",
              "    .dataframe tbody tr th {\n",
              "        vertical-align: top;\n",
              "    }\n",
              "\n",
              "    .dataframe thead th {\n",
              "        text-align: right;\n",
              "    }\n",
              "</style>\n",
              "<table border=\"1\" class=\"dataframe\">\n",
              "  <thead>\n",
              "    <tr style=\"text-align: right;\">\n",
              "      <th></th>\n",
              "      <th>no2</th>\n",
              "      <th>ni</th>\n",
              "    </tr>\n",
              "  </thead>\n",
              "  <tbody>\n",
              "    <tr>\n",
              "      <th>0</th>\n",
              "      <td>17.4</td>\n",
              "      <td>21.750</td>\n",
              "    </tr>\n",
              "    <tr>\n",
              "      <th>1</th>\n",
              "      <td>7.0</td>\n",
              "      <td>8.750</td>\n",
              "    </tr>\n",
              "    <tr>\n",
              "      <th>2</th>\n",
              "      <td>28.5</td>\n",
              "      <td>35.625</td>\n",
              "    </tr>\n",
              "    <tr>\n",
              "      <th>3</th>\n",
              "      <td>14.7</td>\n",
              "      <td>18.375</td>\n",
              "    </tr>\n",
              "    <tr>\n",
              "      <th>4</th>\n",
              "      <td>7.5</td>\n",
              "      <td>9.375</td>\n",
              "    </tr>\n",
              "  </tbody>\n",
              "</table>\n",
              "</div>"
            ],
            "text/plain": [
              "    no2      ni\n",
              "0  17.4  21.750\n",
              "1   7.0   8.750\n",
              "2  28.5  35.625\n",
              "3  14.7  18.375\n",
              "4   7.5   9.375"
            ]
          },
          "metadata": {
            "tags": []
          },
          "execution_count": 45
        }
      ]
    },
    {
      "cell_type": "code",
      "metadata": {
        "id": "4fN4DNhcNqrR",
        "colab_type": "code",
        "outputId": "46fcb870-80b9-4cc1-b918-2a1c5871e6f8",
        "colab": {
          "base_uri": "https://localhost:8080/",
          "height": 204
        }
      },
      "source": [
        "#Function to calculate rspm individual pollutant index(rpi)\n",
        "\n",
        "# EPA METHOD FORMULA\n",
        "#  AQI_{PM} = AQI_{min} +  ({PM_{Obs}-PM_{Min}}/{(PM_{Max}-PM_{Min})})* {AQI_{Max}-AQI_{Min}}\n",
        "\n",
        "# calculating AQI index of RSPM pollutant by EPA method formula given above\n",
        "#  RSPM is scaled between 0-400\n",
        "def calculate_(rspm):\n",
        "    rpi=0\n",
        "    if(rpi<=30):\n",
        "     rpi = rpi*50/30\n",
        "    elif(rpi>30 and rpi<=60):\n",
        "     rpi = 50+(rpi-30)*50/(60-30)\n",
        "    elif(rpi>60 and rpi<=90):\n",
        "     rpi = 100+(rpi-60)*100/(90-60)\n",
        "    elif(rpi>90 and rpi<=120):\n",
        "     rpi = 200+(rpi-90)*100/(120-90)\n",
        "    elif(rpi>120 and rpi<=250):\n",
        "     rpi = 300+(rpi-120)*(100/(250-120))\n",
        "    else:\n",
        "     rpi = 400+(rpi-250)*(100/130)\n",
        "    return rpi\n",
        "\n",
        "# calling the function to calulate RSPM pollutant index\n",
        "dataset['rpi']=dataset['rspm'].apply(calculate_si)\n",
        "df_rpi = dataset[['rspm','rpi']]\n",
        "df_rpi.head()\n"
      ],
      "execution_count": 0,
      "outputs": [
        {
          "output_type": "execute_result",
          "data": {
            "text/html": [
              "<div>\n",
              "<style scoped>\n",
              "    .dataframe tbody tr th:only-of-type {\n",
              "        vertical-align: middle;\n",
              "    }\n",
              "\n",
              "    .dataframe tbody tr th {\n",
              "        vertical-align: top;\n",
              "    }\n",
              "\n",
              "    .dataframe thead th {\n",
              "        text-align: right;\n",
              "    }\n",
              "</style>\n",
              "<table border=\"1\" class=\"dataframe\">\n",
              "  <thead>\n",
              "    <tr style=\"text-align: right;\">\n",
              "      <th></th>\n",
              "      <th>rspm</th>\n",
              "      <th>rpi</th>\n",
              "    </tr>\n",
              "  </thead>\n",
              "  <tbody>\n",
              "    <tr>\n",
              "      <th>0</th>\n",
              "      <td>78.182824</td>\n",
              "      <td>97.72853</td>\n",
              "    </tr>\n",
              "    <tr>\n",
              "      <th>1</th>\n",
              "      <td>78.182824</td>\n",
              "      <td>97.72853</td>\n",
              "    </tr>\n",
              "    <tr>\n",
              "      <th>2</th>\n",
              "      <td>78.182824</td>\n",
              "      <td>97.72853</td>\n",
              "    </tr>\n",
              "    <tr>\n",
              "      <th>3</th>\n",
              "      <td>78.182824</td>\n",
              "      <td>97.72853</td>\n",
              "    </tr>\n",
              "    <tr>\n",
              "      <th>4</th>\n",
              "      <td>78.182824</td>\n",
              "      <td>97.72853</td>\n",
              "    </tr>\n",
              "  </tbody>\n",
              "</table>\n",
              "</div>"
            ],
            "text/plain": [
              "        rspm       rpi\n",
              "0  78.182824  97.72853\n",
              "1  78.182824  97.72853\n",
              "2  78.182824  97.72853\n",
              "3  78.182824  97.72853\n",
              "4  78.182824  97.72853"
            ]
          },
          "metadata": {
            "tags": []
          },
          "execution_count": 46
        }
      ]
    },
    {
      "cell_type": "code",
      "metadata": {
        "id": "zSPlGIK7NtgD",
        "colab_type": "code",
        "outputId": "3d5d84e0-5bee-48f7-c139-9ad1066542bd",
        "colab": {
          "base_uri": "https://localhost:8080/",
          "height": 204
        }
      },
      "source": [
        "#Function to calculate spm individual pollutant index(spi)\n",
        "\n",
        "# EPA METHOD FORMULA\n",
        "#  AQI_{PM} = AQI_{min} +  ({PM_{Obs}-PM_{Min}}/{(PM_{Max}-PM_{Min})})* {AQI_{Max}-AQI_{Min}}\n",
        "\n",
        "# calculating AQI index of SPM pollutant by EPA method formula given above\n",
        "#  SPM is scaled between 0-400\n",
        "def calculate_spi(spm):\n",
        "    spi=0\n",
        "    if(spm<=50):\n",
        "     spi = spm*50/50\n",
        "    elif(spm>50 and spm<=100):\n",
        "     spi = 50 + (spm-50)*(50/(100-50))\n",
        "    elif(spm>100 and spm<=250):\n",
        "     spi = 100 + (spm-100)*(100/(250-100))\n",
        "    elif(spm>250 and spm<=350):\n",
        "     spi=200 + (spm-250)*(100/(350-250))\n",
        "    elif(spm>350 and spm<=430):\n",
        "     spi=300 + (spm-350)*(100/(430-350))\n",
        "    else:\n",
        "     spi=400+(spm-430)*(100/430)\n",
        "    return spi\n",
        "\n",
        "# calling the function to calulate SPM pollutant index\n",
        "dataset['spi'] = dataset['spm'].apply(calculate_spi)\n",
        "df_spm = dataset[['spm','spi']]\n",
        "df_spm.head()"
      ],
      "execution_count": 0,
      "outputs": [
        {
          "output_type": "execute_result",
          "data": {
            "text/html": [
              "<div>\n",
              "<style scoped>\n",
              "    .dataframe tbody tr th:only-of-type {\n",
              "        vertical-align: middle;\n",
              "    }\n",
              "\n",
              "    .dataframe tbody tr th {\n",
              "        vertical-align: top;\n",
              "    }\n",
              "\n",
              "    .dataframe thead th {\n",
              "        text-align: right;\n",
              "    }\n",
              "</style>\n",
              "<table border=\"1\" class=\"dataframe\">\n",
              "  <thead>\n",
              "    <tr style=\"text-align: right;\">\n",
              "      <th></th>\n",
              "      <th>spm</th>\n",
              "      <th>spi</th>\n",
              "    </tr>\n",
              "  </thead>\n",
              "  <tbody>\n",
              "    <tr>\n",
              "      <th>0</th>\n",
              "      <td>200.260378</td>\n",
              "      <td>166.840252</td>\n",
              "    </tr>\n",
              "    <tr>\n",
              "      <th>1</th>\n",
              "      <td>200.260378</td>\n",
              "      <td>166.840252</td>\n",
              "    </tr>\n",
              "    <tr>\n",
              "      <th>2</th>\n",
              "      <td>200.260378</td>\n",
              "      <td>166.840252</td>\n",
              "    </tr>\n",
              "    <tr>\n",
              "      <th>3</th>\n",
              "      <td>200.260378</td>\n",
              "      <td>166.840252</td>\n",
              "    </tr>\n",
              "    <tr>\n",
              "      <th>4</th>\n",
              "      <td>200.260378</td>\n",
              "      <td>166.840252</td>\n",
              "    </tr>\n",
              "  </tbody>\n",
              "</table>\n",
              "</div>"
            ],
            "text/plain": [
              "          spm         spi\n",
              "0  200.260378  166.840252\n",
              "1  200.260378  166.840252\n",
              "2  200.260378  166.840252\n",
              "3  200.260378  166.840252\n",
              "4  200.260378  166.840252"
            ]
          },
          "metadata": {
            "tags": []
          },
          "execution_count": 47
        }
      ]
    },
    {
      "cell_type": "code",
      "metadata": {
        "id": "HMl8BM5PNxkO",
        "colab_type": "code",
        "outputId": "adfbf332-7f32-4813-cae0-d8e443958dc2",
        "colab": {
          "base_uri": "https://localhost:8080/",
          "height": 204
        }
      },
      "source": [
        "#function to calculate the air quality index (AQI) of every data value its is calculated as per indian govt standards\n",
        "\n",
        "# AQI = MAX ( AQI_{SO2}, AQI_{NO2}, AQI_{RSPM}, AQI_{SPM})\n",
        "def calculate_aqi(si,ni,spi,rpi):\n",
        "    aqi=0\n",
        "    if(si>ni and si>spi and si>rpi):\n",
        "     aqi=si\n",
        "    if(spi>si and spi>ni and spi>rpi):\n",
        "     aqi=spi\n",
        "    if(ni>si and ni>spi and ni>rpi):\n",
        "     aqi=ni\n",
        "    if(rpi>si and rpi>ni and rpi>spi):\n",
        "     aqi=rpi\n",
        "    return aqi\n",
        "\n",
        "# calling the function to calulate AQI \n",
        "dataset['AQI'] = dataset.apply(lambda x:calculate_aqi(x['si'],x['ni'],x['spi'],x['rpi']),axis=1)\n",
        "df= dataset[['state','si','ni','rpi','spi','AQI']]\n",
        "df.head()"
      ],
      "execution_count": 0,
      "outputs": [
        {
          "output_type": "execute_result",
          "data": {
            "text/html": [
              "<div>\n",
              "<style scoped>\n",
              "    .dataframe tbody tr th:only-of-type {\n",
              "        vertical-align: middle;\n",
              "    }\n",
              "\n",
              "    .dataframe tbody tr th {\n",
              "        vertical-align: top;\n",
              "    }\n",
              "\n",
              "    .dataframe thead th {\n",
              "        text-align: right;\n",
              "    }\n",
              "</style>\n",
              "<table border=\"1\" class=\"dataframe\">\n",
              "  <thead>\n",
              "    <tr style=\"text-align: right;\">\n",
              "      <th></th>\n",
              "      <th>state</th>\n",
              "      <th>si</th>\n",
              "      <th>ni</th>\n",
              "      <th>rpi</th>\n",
              "      <th>spi</th>\n",
              "      <th>AQI</th>\n",
              "    </tr>\n",
              "  </thead>\n",
              "  <tbody>\n",
              "    <tr>\n",
              "      <th>0</th>\n",
              "      <td>Andhra Pradesh</td>\n",
              "      <td>6.000</td>\n",
              "      <td>21.750</td>\n",
              "      <td>97.72853</td>\n",
              "      <td>166.840252</td>\n",
              "      <td>166.840252</td>\n",
              "    </tr>\n",
              "    <tr>\n",
              "      <th>1</th>\n",
              "      <td>Andhra Pradesh</td>\n",
              "      <td>3.875</td>\n",
              "      <td>8.750</td>\n",
              "      <td>97.72853</td>\n",
              "      <td>166.840252</td>\n",
              "      <td>166.840252</td>\n",
              "    </tr>\n",
              "    <tr>\n",
              "      <th>2</th>\n",
              "      <td>Andhra Pradesh</td>\n",
              "      <td>7.750</td>\n",
              "      <td>35.625</td>\n",
              "      <td>97.72853</td>\n",
              "      <td>166.840252</td>\n",
              "      <td>166.840252</td>\n",
              "    </tr>\n",
              "    <tr>\n",
              "      <th>3</th>\n",
              "      <td>Andhra Pradesh</td>\n",
              "      <td>7.875</td>\n",
              "      <td>18.375</td>\n",
              "      <td>97.72853</td>\n",
              "      <td>166.840252</td>\n",
              "      <td>166.840252</td>\n",
              "    </tr>\n",
              "    <tr>\n",
              "      <th>4</th>\n",
              "      <td>Andhra Pradesh</td>\n",
              "      <td>5.875</td>\n",
              "      <td>9.375</td>\n",
              "      <td>97.72853</td>\n",
              "      <td>166.840252</td>\n",
              "      <td>166.840252</td>\n",
              "    </tr>\n",
              "  </tbody>\n",
              "</table>\n",
              "</div>"
            ],
            "text/plain": [
              "            state     si      ni       rpi         spi         AQI\n",
              "0  Andhra Pradesh  6.000  21.750  97.72853  166.840252  166.840252\n",
              "1  Andhra Pradesh  3.875   8.750  97.72853  166.840252  166.840252\n",
              "2  Andhra Pradesh  7.750  35.625  97.72853  166.840252  166.840252\n",
              "3  Andhra Pradesh  7.875  18.375  97.72853  166.840252  166.840252\n",
              "4  Andhra Pradesh  5.875   9.375  97.72853  166.840252  166.840252"
            ]
          },
          "metadata": {
            "tags": []
          },
          "execution_count": 48
        }
      ]
    },
    {
      "cell_type": "code",
      "metadata": {
        "id": "rtlCzfC4N3aQ",
        "colab_type": "code",
        "colab": {}
      },
      "source": [
        "dataset.fillna(0.0,inplace=True)\n",
        "\n",
        "dataset['date'] = pd.to_datetime(dataset['date'],format='%Y-%m-%d') # transforming the date column into '%Y-%m-%d' formate \n",
        "dataset['year'] = dataset['date'].dt.year                           # extracting year from the date column\n",
        "dataset['year'] = dataset['year'].fillna(0.0).astype(int)           # filling nan values as 0\n",
        "dataset = dataset[(dataset['year']>0)]                              # extracting only non null values"
      ],
      "execution_count": 0,
      "outputs": []
    },
    {
      "cell_type": "code",
      "metadata": {
        "id": "FCGon_xoOhIA",
        "colab_type": "code",
        "outputId": "f7aae580-fee7-4863-cff2-539c69254bd7",
        "colab": {
          "base_uri": "https://localhost:8080/",
          "height": 204
        }
      },
      "source": [
        "dataset.head()"
      ],
      "execution_count": 0,
      "outputs": [
        {
          "output_type": "execute_result",
          "data": {
            "text/html": [
              "<div>\n",
              "<style scoped>\n",
              "    .dataframe tbody tr th:only-of-type {\n",
              "        vertical-align: middle;\n",
              "    }\n",
              "\n",
              "    .dataframe tbody tr th {\n",
              "        vertical-align: top;\n",
              "    }\n",
              "\n",
              "    .dataframe thead th {\n",
              "        text-align: right;\n",
              "    }\n",
              "</style>\n",
              "<table border=\"1\" class=\"dataframe\">\n",
              "  <thead>\n",
              "    <tr style=\"text-align: right;\">\n",
              "      <th></th>\n",
              "      <th>state</th>\n",
              "      <th>location</th>\n",
              "      <th>type</th>\n",
              "      <th>so2</th>\n",
              "      <th>no2</th>\n",
              "      <th>rspm</th>\n",
              "      <th>spm</th>\n",
              "      <th>pm2_5</th>\n",
              "      <th>date</th>\n",
              "      <th>si</th>\n",
              "      <th>ni</th>\n",
              "      <th>rpi</th>\n",
              "      <th>spi</th>\n",
              "      <th>AQI</th>\n",
              "    </tr>\n",
              "  </thead>\n",
              "  <tbody>\n",
              "    <tr>\n",
              "      <th>0</th>\n",
              "      <td>Andhra Pradesh</td>\n",
              "      <td>Hyderabad</td>\n",
              "      <td>Residential, Rural and other Areas</td>\n",
              "      <td>4.8</td>\n",
              "      <td>17.4</td>\n",
              "      <td>78.182824</td>\n",
              "      <td>200.260378</td>\n",
              "      <td>0.0</td>\n",
              "      <td>1990-02-01</td>\n",
              "      <td>6.000</td>\n",
              "      <td>21.750</td>\n",
              "      <td>97.72853</td>\n",
              "      <td>166.840252</td>\n",
              "      <td>166.840252</td>\n",
              "    </tr>\n",
              "    <tr>\n",
              "      <th>1</th>\n",
              "      <td>Andhra Pradesh</td>\n",
              "      <td>Hyderabad</td>\n",
              "      <td>Industrial Area</td>\n",
              "      <td>3.1</td>\n",
              "      <td>7.0</td>\n",
              "      <td>78.182824</td>\n",
              "      <td>200.260378</td>\n",
              "      <td>0.0</td>\n",
              "      <td>1990-02-01</td>\n",
              "      <td>3.875</td>\n",
              "      <td>8.750</td>\n",
              "      <td>97.72853</td>\n",
              "      <td>166.840252</td>\n",
              "      <td>166.840252</td>\n",
              "    </tr>\n",
              "    <tr>\n",
              "      <th>2</th>\n",
              "      <td>Andhra Pradesh</td>\n",
              "      <td>Hyderabad</td>\n",
              "      <td>Residential, Rural and other Areas</td>\n",
              "      <td>6.2</td>\n",
              "      <td>28.5</td>\n",
              "      <td>78.182824</td>\n",
              "      <td>200.260378</td>\n",
              "      <td>0.0</td>\n",
              "      <td>1990-02-01</td>\n",
              "      <td>7.750</td>\n",
              "      <td>35.625</td>\n",
              "      <td>97.72853</td>\n",
              "      <td>166.840252</td>\n",
              "      <td>166.840252</td>\n",
              "    </tr>\n",
              "    <tr>\n",
              "      <th>3</th>\n",
              "      <td>Andhra Pradesh</td>\n",
              "      <td>Hyderabad</td>\n",
              "      <td>Residential, Rural and other Areas</td>\n",
              "      <td>6.3</td>\n",
              "      <td>14.7</td>\n",
              "      <td>78.182824</td>\n",
              "      <td>200.260378</td>\n",
              "      <td>0.0</td>\n",
              "      <td>1990-03-01</td>\n",
              "      <td>7.875</td>\n",
              "      <td>18.375</td>\n",
              "      <td>97.72853</td>\n",
              "      <td>166.840252</td>\n",
              "      <td>166.840252</td>\n",
              "    </tr>\n",
              "    <tr>\n",
              "      <th>4</th>\n",
              "      <td>Andhra Pradesh</td>\n",
              "      <td>Hyderabad</td>\n",
              "      <td>Industrial Area</td>\n",
              "      <td>4.7</td>\n",
              "      <td>7.5</td>\n",
              "      <td>78.182824</td>\n",
              "      <td>200.260378</td>\n",
              "      <td>0.0</td>\n",
              "      <td>1990-03-01</td>\n",
              "      <td>5.875</td>\n",
              "      <td>9.375</td>\n",
              "      <td>97.72853</td>\n",
              "      <td>166.840252</td>\n",
              "      <td>166.840252</td>\n",
              "    </tr>\n",
              "  </tbody>\n",
              "</table>\n",
              "</div>"
            ],
            "text/plain": [
              "            state   location  ...         spi         AQI\n",
              "0  Andhra Pradesh  Hyderabad  ...  166.840252  166.840252\n",
              "1  Andhra Pradesh  Hyderabad  ...  166.840252  166.840252\n",
              "2  Andhra Pradesh  Hyderabad  ...  166.840252  166.840252\n",
              "3  Andhra Pradesh  Hyderabad  ...  166.840252  166.840252\n",
              "4  Andhra Pradesh  Hyderabad  ...  166.840252  166.840252\n",
              "\n",
              "[5 rows x 14 columns]"
            ]
          },
          "metadata": {
            "tags": []
          },
          "execution_count": 50
        }
      ]
    },
    {
      "cell_type": "code",
      "metadata": {
        "id": "GAxAFqdHOnID",
        "colab_type": "code",
        "colab": {}
      },
      "source": [
        "data1 = dataset.copy()\n",
        "filter = data1[\"state\"]==\"Delhi\"\n",
        "data1.where(filter, inplace = True) \n",
        "data1 = data1.dropna()"
      ],
      "execution_count": 0,
      "outputs": []
    },
    {
      "cell_type": "code",
      "metadata": {
        "id": "KplWuJ1GO4eL",
        "colab_type": "code",
        "colab": {}
      },
      "source": [
        "data2 = dataset.copy()\n",
        "filter = data2[\"state\"]==\"Maharashtra\"\n",
        "data2.where(filter, inplace = True) \n",
        "data2 = data2.dropna()\n",
        "\n",
        "data3 = dataset.copy()\n",
        "filter = data3[\"state\"]==\"Gujarat\"\n",
        "data3.where(filter, inplace = True) \n",
        "data3 = data3.dropna()"
      ],
      "execution_count": 0,
      "outputs": []
    },
    {
      "cell_type": "code",
      "metadata": {
        "id": "CGdjeV8YQAZL",
        "colab_type": "code",
        "colab": {}
      },
      "source": [
        ""
      ],
      "execution_count": 0,
      "outputs": []
    },
    {
      "cell_type": "code",
      "metadata": {
        "id": "JyJlwnrJQ2gD",
        "colab_type": "code",
        "colab": {}
      },
      "source": [
        "def gradient_boosting_classifier(classifier, X, y, count):\n",
        "\n",
        "    # Gradient Boosting Regression\n",
        "    #GB = GradientBoostingRegressor()\n",
        "    X_train, X_test, y_train, y_test = train_test_split(X, y, test_size=0.2)  # dividing int training and test set\n",
        "\n",
        "    # One Hot Encoding\n",
        "    X_train = pd.get_dummies(X_train)\n",
        "    X_test = pd.get_dummies(X_test)\n",
        "\n",
        "    classifier.fit(X_train, y_train)\n",
        "    predictions = classifier.predict(X_test)\n",
        "    predictions1 = classifier.predict(X)\n",
        "\n",
        "    print(X_test.shape,X_train.shape,y_test.shape, predictions.shape,y_train.shape)\n",
        "    print('r2_Square:%.2f '% r2_score(y_test, predictions))\n",
        "    print('MSE:%.2f '% np.sqrt(mean_squared_error(y_test, predictions)))\n",
        "    print(\"KfoldCrossVal mean score using Linear regression is %s\" %cross_val_score(classifier,X_train,y_train,cv=10).mean())\n",
        "\n",
        "    rmse = np.sqrt(mean_squared_error(y_test, predictions))\n",
        "    Kfold = cross_val_score(classifier,X_train,y_train,cv=10).mean()\n",
        "\n",
        "    #plt.figure(figsize=(10,10))\n",
        "    #plt.scatter(y_test,predictions, color = \"red\", alpha=0.1)\n",
        "    #plt.xlabel('Predictions')\n",
        "\n",
        "    #plt.ylabel('AQI')\n",
        "    #plt.title(\"Gradient Boosting Regression\")\n",
        "    #plt.show()\n",
        "\n",
        "    if(count == 1):\n",
        "      data1['predictedGb'] = predictions1\n",
        "      df = data1[['AQI','year','state']].groupby([\"year\"]).median().reset_index().sort_values(by='year',ascending=False)\n",
        "      df1 = data1[['predictedGb','year','state']].groupby([\"year\"]).median().reset_index().sort_values(by='year',ascending=False)\n",
        "      #f,ax=plt.subplots(figsize=(15,10))\n",
        "      #sns.pointplot(x='year', y='AQI', data=df, color='r', label=\"Actual\")\n",
        "      #sns.pointplot(x='year', y='predictedGb', data=df1, color='g', label=\"predicted\")\n",
        "    elif(count==2):\n",
        "      data2['predictedGb'] = predictions1\n",
        "      df = data2[['AQI','year','state']].groupby([\"year\"]).median().reset_index().sort_values(by='year',ascending=False)\n",
        "      df1 = data2[['predictedGb','year','state']].groupby([\"year\"]).median().reset_index().sort_values(by='year',ascending=False)\n",
        "      #f,ax=plt.subplots(figsize=(15,10))\n",
        "      #sns.pointplot(x='year', y='AQI', data=df, color='r', label=\"Actual\")\n",
        "      #sns.pointplot(x='year', y='predictedGb', data=df1, color='g', label=\"predicted\")\n",
        "    elif(count==3):\n",
        "      data3['predictedGb'] = predictions1\n",
        "      df = data3[['AQI','year','state']].groupby([\"year\"]).median().reset_index().sort_values(by='year',ascending=False)\n",
        "      df1 = data3[['predictedGb','year','state']].groupby([\"year\"]).median().reset_index().sort_values(by='year',ascending=False)\n",
        "      #f,ax=plt.subplots(figsize=(15,10))\n",
        "      #sns.pointplot(x='year', y='AQI', data=df, color='r', label=\"Actual\")\n",
        "      #sns.pointplot(x='year', y='predictedGb', data=df1, color='g', label=\"predicted\")\n",
        "\n",
        "    return rmse\n",
        "   "
      ],
      "execution_count": 0,
      "outputs": []
    },
    {
      "cell_type": "code",
      "metadata": {
        "id": "7AYPKcb1ROJJ",
        "colab_type": "code",
        "outputId": "980a628e-9bcd-4daa-e7a3-f76deb5c985f",
        "colab": {
          "base_uri": "https://localhost:8080/",
          "height": 221
        }
      },
      "source": [
        "from sklearn.ensemble import GradientBoostingRegressor\n",
        "GB = GradientBoostingRegressor()\n",
        "\n",
        "X_1 = data1[['so2','no2','rspm','spm']]   # independent variables - polluntants\n",
        "y_1 = data1['AQI'] # target variable - AQI\n",
        "rmse_1_gbr = gradient_boosting_classifier(GB, X_1, y_1,1)\n",
        "\n",
        "X_2 = data2[['so2','no2','rspm','spm']]   # independent variables - polluntants\n",
        "y_2 = data2['AQI'] # target variable - AQI\n",
        "rmse_2_gbr = gradient_boosting_classifier(GB, X_2, y_2,2)\n",
        "\n",
        "X_3 = data3[['so2','no2','rspm','spm']]   # independent variables - polluntants\n",
        "y_3 = data3['AQI'] # target variable - AQI\n",
        "rmse_3_gbr = gradient_boosting_classifier(GB, X_3, y_3,3)"
      ],
      "execution_count": 0,
      "outputs": [
        {
          "output_type": "stream",
          "text": [
            "(1711, 4) (6840, 4) (1711,) (1711,) (6840,)\n",
            "r2_Square:1.00 \n",
            "MSE:2.54 \n",
            "KfoldCrossVal mean score using Linear regression is 0.999766410448952\n",
            "(12077, 4) (48307, 4) (12077,) (12077,) (48307,)\n",
            "r2_Square:1.00 \n",
            "MSE:1.58 \n",
            "KfoldCrossVal mean score using Linear regression is 0.9981452674111715\n",
            "(4256, 4) (17023, 4) (4256,) (4256,) (17023,)\n",
            "r2_Square:1.00 \n",
            "MSE:1.41 \n",
            "KfoldCrossVal mean score using Linear regression is 0.998929301149752\n"
          ],
          "name": "stdout"
        }
      ]
    },
    {
      "cell_type": "code",
      "metadata": {
        "id": "MhN7V0ZvSNcQ",
        "colab_type": "code",
        "outputId": "dc72695f-8f2b-4c47-fb63-74a146ab6cce",
        "colab": {
          "base_uri": "https://localhost:8080/",
          "height": 221
        }
      },
      "source": [
        "from sklearn.tree import DecisionTreeRegressor\n",
        "DT = DecisionTreeRegressor()\n",
        "\n",
        "X_1 = data1[['so2','no2','rspm','spm']]   # independent variables - polluntants\n",
        "y_1 = data1['AQI'] # target variable - AQI\n",
        "rmse_1_dt = gradient_boosting_classifier(DT, X_1, y_1,1)\n",
        "\n",
        "X_2 = data2[['so2','no2','rspm','spm']]   # independent variables - polluntants\n",
        "y_2 = data2['AQI'] # target variable - AQI\n",
        "rmse_2_dt = gradient_boosting_classifier(DT, X_2, y_2,2)\n",
        "\n",
        "X_3 = data3[['so2','no2','rspm','spm']]   # independent variables - polluntants\n",
        "y_3 = data3['AQI'] # target variable - AQI\n",
        "rmse_3_dt = gradient_boosting_classifier(DT, X_3, y_3,3)"
      ],
      "execution_count": 0,
      "outputs": [
        {
          "output_type": "stream",
          "text": [
            "(1711, 4) (6840, 4) (1711,) (1711,) (6840,)\n",
            "r2_Square:1.00 \n",
            "MSE:2.66 \n",
            "KfoldCrossVal mean score using Linear regression is 0.9998401437433608\n",
            "(12077, 4) (48307, 4) (12077,) (12077,) (48307,)\n",
            "r2_Square:1.00 \n",
            "MSE:2.60 \n",
            "KfoldCrossVal mean score using Linear regression is 0.9985168568910983\n",
            "(4256, 4) (17023, 4) (4256,) (4256,) (17023,)\n",
            "r2_Square:1.00 \n",
            "MSE:0.77 \n",
            "KfoldCrossVal mean score using Linear regression is 0.9994785300181368\n"
          ],
          "name": "stdout"
        }
      ]
    },
    {
      "cell_type": "code",
      "metadata": {
        "id": "haJBe4mhgxTV",
        "colab_type": "code",
        "outputId": "b37a4c10-8420-47ba-9bb6-b52940f851b0",
        "colab": {
          "base_uri": "https://localhost:8080/",
          "height": 221
        }
      },
      "source": [
        "from sklearn.ensemble import RandomForestRegressor\n",
        "DT = RandomForestRegressor()\n",
        "\n",
        "X_1 = data1[['so2','no2','rspm','spm']]   # independent variables - polluntants\n",
        "y_1 = data1['AQI'] # target variable - AQI\n",
        "rmse_1_rf = gradient_boosting_classifier(DT, X_1, y_1,1)\n",
        "\n",
        "X_2 = data2[['so2','no2','rspm','spm']]   # independent variables - polluntants\n",
        "y_2 = data2['AQI'] # target variable - AQI\n",
        "rmse_2_rf = gradient_boosting_classifier(DT, X_2, y_2,2)\n",
        "\n",
        "X_3 = data3[['so2','no2','rspm','spm']]   # independent variables - polluntants\n",
        "y_3 = data3['AQI'] # target variable - AQI\n",
        "rmse_3_rf = gradient_boosting_classifier(DT, X_3, y_3,3)"
      ],
      "execution_count": 0,
      "outputs": [
        {
          "output_type": "stream",
          "text": [
            "(1711, 4) (6840, 4) (1711,) (1711,) (6840,)\n",
            "r2_Square:1.00 \n",
            "MSE:0.26 \n",
            "KfoldCrossVal mean score using Linear regression is 0.9997675908808361\n",
            "(12077, 4) (48307, 4) (12077,) (12077,) (48307,)\n",
            "r2_Square:1.00 \n",
            "MSE:1.36 \n",
            "KfoldCrossVal mean score using Linear regression is 0.9987434607176866\n",
            "(4256, 4) (17023, 4) (4256,) (4256,) (17023,)\n",
            "r2_Square:1.00 \n",
            "MSE:1.76 \n",
            "KfoldCrossVal mean score using Linear regression is 0.999181286406556\n"
          ],
          "name": "stdout"
        }
      ]
    },
    {
      "cell_type": "code",
      "metadata": {
        "id": "LOIt2U9Mg-Xr",
        "colab_type": "code",
        "outputId": "638858ea-b3ad-46cb-a967-1503fb58216a",
        "colab": {
          "base_uri": "https://localhost:8080/",
          "height": 221
        }
      },
      "source": [
        "from sklearn.linear_model import LinearRegression\n",
        "\n",
        "DT = LinearRegression()\n",
        "\n",
        "X_1 = data1[['so2','no2','rspm','spm']]   # independent variables - polluntants\n",
        "y_1 = data1['AQI'] # target variable - AQI\n",
        "rmse_1_lr = gradient_boosting_classifier(DT, X_1, y_1,1)\n",
        "\n",
        "X_2 = data2[['so2','no2','rspm','spm']]   # independent variables - polluntants\n",
        "y_2 = data2['AQI'] # target variable - AQI\n",
        "rmse_2_lr = gradient_boosting_classifier(DT, X_2, y_2,2)\n",
        "\n",
        "X_3 = data3[['so2','no2','rspm','spm']]   # independent variables - polluntants\n",
        "y_3 = data3['AQI'] # target variable - AQI\n",
        "rmse_3_lr = gradient_boosting_classifier(DT, X_3, y_3,3)"
      ],
      "execution_count": 0,
      "outputs": [
        {
          "output_type": "stream",
          "text": [
            "(1711, 4) (6840, 4) (1711,) (1711,) (6840,)\n",
            "r2_Square:0.83 \n",
            "MSE:38.55 \n",
            "KfoldCrossVal mean score using Linear regression is 0.83716226641506\n",
            "(12077, 4) (48307, 4) (12077,) (12077,) (48307,)\n",
            "r2_Square:0.93 \n",
            "MSE:15.38 \n",
            "KfoldCrossVal mean score using Linear regression is 0.9323526188078748\n",
            "(4256, 4) (17023, 4) (4256,) (4256,) (17023,)\n",
            "r2_Square:0.92 \n",
            "MSE:17.54 \n",
            "KfoldCrossVal mean score using Linear regression is 0.9185232930280766\n"
          ],
          "name": "stdout"
        }
      ]
    },
    {
      "cell_type": "code",
      "metadata": {
        "id": "mcOeMHGohjG7",
        "colab_type": "code",
        "outputId": "5e082a88-b4a8-4b65-dbb1-f72be75d35ef",
        "colab": {
          "base_uri": "https://localhost:8080/",
          "height": 489
        }
      },
      "source": [
        "import matplotlib.pyplot as plt; plt.rcdefaults()\n",
        "objects = ('LR', 'DTR', 'RF', 'GBR')   # plotting rmse of all the regression techniques\n",
        "y_pos = np.arange(len(objects))\n",
        "performance1 = [rmse_1_lr, rmse_1_dt, rmse_1_rf, rmse_1_gbr]  # rmse performance\n",
        "performance2 = [rmse_2_lr, rmse_2_dt, rmse_2_rf, rmse_2_gbr]  # rmse performance\n",
        "performance3 = [rmse_3_lr, rmse_3_dt, rmse_3_rf, rmse_3_gbr]  # rmse performance\n",
        "\n",
        "# printing the bar chart showing RMSE of all the 4 regression techniques mentioned above\n",
        "print(performance1)\n",
        "width=0.5\n",
        "plt.barh(y_pos, performance1, width, height, align='center', alpha=0.5)\n",
        "plt.yticks(y_pos, objects)\n",
        "plt.xlabel('Error')\n",
        "plt.ylabel('Regression techniques')\n",
        "plt.title('Delhi - RMSE analysis')\n",
        "plt.show()"
      ],
      "execution_count": 0,
      "outputs": [
        {
          "output_type": "stream",
          "text": [
            "[38.547426932091554, 2.660517460848958, 0.26439106226680786, 2.5428164102831383]\n"
          ],
          "name": "stdout"
        },
        {
          "output_type": "display_data",
          "data": {
            "image/png": "[encoded data removed]",
            "text/plain": [
              "<Figure size 640x480 with 1 Axes>"
            ]
          },
          "metadata": {
            "tags": []
          }
        }
      ]
    },
    {
      "cell_type": "code",
      "metadata": {
        "id": "9qDuKGi3jG99",
        "colab_type": "code",
        "outputId": "d51c93df-b0e7-4c3e-ec7c-ab100d98a4e9",
        "colab": {
          "base_uri": "https://localhost:8080/",
          "height": 489
        }
      },
      "source": [
        "print(performance2)\n",
        "width=0.5\n",
        "plt.barh(y_pos, performance2, width, align='center', alpha=0.5)\n",
        "plt.yticks(y_pos, objects)\n",
        "plt.xlabel('Error')\n",
        "plt.ylabel('Regression techniques')\n",
        "plt.title('Maharashtra - RMSE analysis')\n",
        "plt.show()"
      ],
      "execution_count": 0,
      "outputs": [
        {
          "output_type": "stream",
          "text": [
            "[15.384075923673938, 2.602960803654794, 1.3608920960630642, 1.575954378255974]\n"
          ],
          "name": "stdout"
        },
        {
          "output_type": "display_data",
          "data": {
            "image/png": "[encoded data removed]",
            "text/plain": [
              "<Figure size 640x480 with 1 Axes>"
            ]
          },
          "metadata": {
            "tags": []
          }
        }
      ]
    },
    {
      "cell_type": "code",
      "metadata": {
        "id": "57wg3kMjjLb_",
        "colab_type": "code",
        "outputId": "23da7bfd-632f-4118-ce10-03b2b0987147",
        "colab": {
          "base_uri": "https://localhost:8080/",
          "height": 489
        }
      },
      "source": [
        "print(performance1)\n",
        "plt.barh(y_pos, performance3, width, align='center', alpha=0.5)\n",
        "plt.yticks(y_pos, objects)\n",
        "plt.xlabel('Error')\n",
        "plt.ylabel('Regression techniques')\n",
        "plt.title('Gujarat - RMSE analysis')\n",
        "plt.show()"
      ],
      "execution_count": 0,
      "outputs": [
        {
          "output_type": "stream",
          "text": [
            "[38.547426932091554, 2.660517460848958, 0.26439106226680786, 2.5428164102831383]\n"
          ],
          "name": "stdout"
        },
        {
          "output_type": "display_data",
          "data": {
            "image/png": "[encoded data removed]",
            "text/plain": [
              "<Figure size 640x480 with 1 Axes>"
            ]
          },
          "metadata": {
            "tags": []
          }
        }
      ]
    },
    {
      "cell_type": "code",
      "metadata": {
        "id": "pY-z_NnbkNSm",
        "colab_type": "code",
        "colab": {}
      },
      "source": [
        ""
      ],
      "execution_count": 0,
      "outputs": []
    }
  ]
}