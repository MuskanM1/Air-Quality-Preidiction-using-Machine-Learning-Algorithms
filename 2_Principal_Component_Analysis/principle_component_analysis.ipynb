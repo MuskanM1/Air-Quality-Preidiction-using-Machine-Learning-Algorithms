{
  "nbformat": 4,
  "nbformat_minor": 0,
  "metadata": {
    "colab": {
      "name": "ML_PCA_final.ipynb",
      "provenance": [],
      "collapsed_sections": []
    },
    "kernelspec": {
      "display_name": "Python 3",
      "language": "python",
      "name": "python3"
    },
    "language_info": {
      "codemirror_mode": {
        "name": "ipython",
        "version": 3
      },
      "file_extension": ".py",
      "mimetype": "text/x-python",
      "name": "python",
      "nbconvert_exporter": "python",
      "pygments_lexer": "ipython3",
      "version": "3.6.2"
    }
  },
  "cells": [
    {
      "cell_type": "code",
      "metadata": {
        "id": "btaWvK3rwxpD",
        "colab_type": "code",
        "colab": {}
      },
      "source": [
        "from pydrive.auth import GoogleAuth\n",
        "from pydrive.drive import GoogleDrive\n",
        "from google.colab import auth\n",
        "from oauth2client.client import GoogleCredentials"
      ],
      "execution_count": 0,
      "outputs": []
    },
    {
      "cell_type": "code",
      "metadata": {
        "id": "WPxUiKudw14j",
        "colab_type": "code",
        "colab": {}
      },
      "source": [
        "auth.authenticate_user()\n",
        "gauth = GoogleAuth()\n",
        "gauth.credentials = GoogleCredentials.get_application_default()\n",
        "drive = GoogleDrive(gauth)"
      ],
      "execution_count": 0,
      "outputs": []
    },
    {
      "cell_type": "code",
      "metadata": {
        "id": "pXIt260Pw3rZ",
        "colab_type": "code",
        "colab": {}
      },
      "source": [
        "downloaded = drive.CreateFile({'id':\"13xmiSh8AgQjj6BJ7Dxu_byo59bnlUT8h\"})   # replace the id with id of file you want to access\n",
        "downloaded.GetContentFile('data.csv')        # replace the file name with your file"
      ],
      "execution_count": 0,
      "outputs": []
    },
    {
      "cell_type": "code",
      "metadata": {
        "colab_type": "code",
        "id": "e7VkEJOiNftE",
        "colab": {}
      },
      "source": [
        "# Required Libraries\n",
        "import numpy as np\n",
        "import timeit\n",
        "import matplotlib as mpl\n",
        "mpl.use('Agg')\n",
        "import matplotlib.pyplot as plt\n",
        "plt.style.use('fivethirtyeight')\n",
        "from ipywidgets import interact\n",
        "from numpy import linalg\n",
        "import pandas as pd\n",
        "import seaborn as sns\n",
        "import warnings; warnings.simplefilter('ignore')\n",
        "\n",
        "%matplotlib inline"
      ],
      "execution_count": 0,
      "outputs": []
    },
    {
      "cell_type": "code",
      "metadata": {
        "colab_type": "code",
        "id": "rG4WRc0Kb3YH",
        "outputId": "7e4f68d9-109b-4d86-f61a-20a34a57c65d",
        "colab": {
          "base_uri": "https://localhost:8080/",
          "height": 297
        }
      },
      "source": [
        "dataset = pd.read_csv('data.csv',encoding=\"ISO-8859-1\") # dataset incorporation\n",
        "dataset.describe()"
      ],
      "execution_count": 65,
      "outputs": [
        {
          "output_type": "execute_result",
          "data": {
            "text/html": [
              "<div>\n",
              "<style scoped>\n",
              "    .dataframe tbody tr th:only-of-type {\n",
              "        vertical-align: middle;\n",
              "    }\n",
              "\n",
              "    .dataframe tbody tr th {\n",
              "        vertical-align: top;\n",
              "    }\n",
              "\n",
              "    .dataframe thead th {\n",
              "        text-align: right;\n",
              "    }\n",
              "</style>\n",
              "<table border=\"1\" class=\"dataframe\">\n",
              "  <thead>\n",
              "    <tr style=\"text-align: right;\">\n",
              "      <th></th>\n",
              "      <th>so2</th>\n",
              "      <th>no2</th>\n",
              "      <th>rspm</th>\n",
              "      <th>spm</th>\n",
              "      <th>pm2_5</th>\n",
              "    </tr>\n",
              "  </thead>\n",
              "  <tbody>\n",
              "    <tr>\n",
              "      <th>count</th>\n",
              "      <td>401096.000000</td>\n",
              "      <td>419509.000000</td>\n",
              "      <td>395520.000000</td>\n",
              "      <td>198355.000000</td>\n",
              "      <td>9314.000000</td>\n",
              "    </tr>\n",
              "    <tr>\n",
              "      <th>mean</th>\n",
              "      <td>10.829414</td>\n",
              "      <td>25.809623</td>\n",
              "      <td>108.832784</td>\n",
              "      <td>220.783480</td>\n",
              "      <td>40.791467</td>\n",
              "    </tr>\n",
              "    <tr>\n",
              "      <th>std</th>\n",
              "      <td>11.177187</td>\n",
              "      <td>18.503086</td>\n",
              "      <td>74.872430</td>\n",
              "      <td>151.395457</td>\n",
              "      <td>30.832525</td>\n",
              "    </tr>\n",
              "    <tr>\n",
              "      <th>min</th>\n",
              "      <td>0.000000</td>\n",
              "      <td>0.000000</td>\n",
              "      <td>0.000000</td>\n",
              "      <td>0.000000</td>\n",
              "      <td>3.000000</td>\n",
              "    </tr>\n",
              "    <tr>\n",
              "      <th>25%</th>\n",
              "      <td>5.000000</td>\n",
              "      <td>14.000000</td>\n",
              "      <td>56.000000</td>\n",
              "      <td>111.000000</td>\n",
              "      <td>24.000000</td>\n",
              "    </tr>\n",
              "    <tr>\n",
              "      <th>50%</th>\n",
              "      <td>8.000000</td>\n",
              "      <td>22.000000</td>\n",
              "      <td>90.000000</td>\n",
              "      <td>187.000000</td>\n",
              "      <td>32.000000</td>\n",
              "    </tr>\n",
              "    <tr>\n",
              "      <th>75%</th>\n",
              "      <td>13.700000</td>\n",
              "      <td>32.200000</td>\n",
              "      <td>142.000000</td>\n",
              "      <td>296.000000</td>\n",
              "      <td>46.000000</td>\n",
              "    </tr>\n",
              "    <tr>\n",
              "      <th>max</th>\n",
              "      <td>909.000000</td>\n",
              "      <td>876.000000</td>\n",
              "      <td>6307.033333</td>\n",
              "      <td>3380.000000</td>\n",
              "      <td>504.000000</td>\n",
              "    </tr>\n",
              "  </tbody>\n",
              "</table>\n",
              "</div>"
            ],
            "text/plain": [
              "                 so2            no2           rspm            spm        pm2_5\n",
              "count  401096.000000  419509.000000  395520.000000  198355.000000  9314.000000\n",
              "mean       10.829414      25.809623     108.832784     220.783480    40.791467\n",
              "std        11.177187      18.503086      74.872430     151.395457    30.832525\n",
              "min         0.000000       0.000000       0.000000       0.000000     3.000000\n",
              "25%         5.000000      14.000000      56.000000     111.000000    24.000000\n",
              "50%         8.000000      22.000000      90.000000     187.000000    32.000000\n",
              "75%        13.700000      32.200000     142.000000     296.000000    46.000000\n",
              "max       909.000000     876.000000    6307.033333    3380.000000   504.000000"
            ]
          },
          "metadata": {
            "tags": []
          },
          "execution_count": 65
        }
      ]
    },
    {
      "cell_type": "markdown",
      "metadata": {
        "id": "uDuXU4JGIqy4",
        "colab_type": "text"
      },
      "source": [
        "## 1. Data Preprocessing "
      ]
    },
    {
      "cell_type": "code",
      "metadata": {
        "colab_type": "code",
        "id": "monB0EeWckBA",
        "outputId": "be01d2ba-9402-4095-f004-89d58b8ca4ba",
        "colab": {
          "base_uri": "https://localhost:8080/",
          "height": 476
        }
      },
      "source": [
        "# DATA CLEANING AND PREPROCESSING STARTS HERE\n",
        "\n",
        "# dropping the unnecessary columns from the dataset\n",
        "dataset.drop(['stn_code','agency','sampling_date','location_monitoring_station'], axis=1,inplace=True)\n",
        "dataset.info()# printing info\n",
        "dataset.head()"
      ],
      "execution_count": 66,
      "outputs": [
        {
          "output_type": "stream",
          "text": [
            "<class 'pandas.core.frame.DataFrame'>\n",
            "RangeIndex: 435742 entries, 0 to 435741\n",
            "Data columns (total 9 columns):\n",
            " #   Column    Non-Null Count   Dtype  \n",
            "---  ------    --------------   -----  \n",
            " 0   state     435742 non-null  object \n",
            " 1   location  435739 non-null  object \n",
            " 2   type      430349 non-null  object \n",
            " 3   so2       401096 non-null  float64\n",
            " 4   no2       419509 non-null  float64\n",
            " 5   rspm      395520 non-null  float64\n",
            " 6   spm       198355 non-null  float64\n",
            " 7   pm2_5     9314 non-null    float64\n",
            " 8   date      435735 non-null  object \n",
            "dtypes: float64(5), object(4)\n",
            "memory usage: 29.9+ MB\n"
          ],
          "name": "stdout"
        },
        {
          "output_type": "execute_result",
          "data": {
            "text/html": [
              "<div>\n",
              "<style scoped>\n",
              "    .dataframe tbody tr th:only-of-type {\n",
              "        vertical-align: middle;\n",
              "    }\n",
              "\n",
              "    .dataframe tbody tr th {\n",
              "        vertical-align: top;\n",
              "    }\n",
              "\n",
              "    .dataframe thead th {\n",
              "        text-align: right;\n",
              "    }\n",
              "</style>\n",
              "<table border=\"1\" class=\"dataframe\">\n",
              "  <thead>\n",
              "    <tr style=\"text-align: right;\">\n",
              "      <th></th>\n",
              "      <th>state</th>\n",
              "      <th>location</th>\n",
              "      <th>type</th>\n",
              "      <th>so2</th>\n",
              "      <th>no2</th>\n",
              "      <th>rspm</th>\n",
              "      <th>spm</th>\n",
              "      <th>pm2_5</th>\n",
              "      <th>date</th>\n",
              "    </tr>\n",
              "  </thead>\n",
              "  <tbody>\n",
              "    <tr>\n",
              "      <th>0</th>\n",
              "      <td>Andhra Pradesh</td>\n",
              "      <td>Hyderabad</td>\n",
              "      <td>Residential, Rural and other Areas</td>\n",
              "      <td>4.8</td>\n",
              "      <td>17.4</td>\n",
              "      <td>NaN</td>\n",
              "      <td>NaN</td>\n",
              "      <td>NaN</td>\n",
              "      <td>1990-02-01</td>\n",
              "    </tr>\n",
              "    <tr>\n",
              "      <th>1</th>\n",
              "      <td>Andhra Pradesh</td>\n",
              "      <td>Hyderabad</td>\n",
              "      <td>Industrial Area</td>\n",
              "      <td>3.1</td>\n",
              "      <td>7.0</td>\n",
              "      <td>NaN</td>\n",
              "      <td>NaN</td>\n",
              "      <td>NaN</td>\n",
              "      <td>1990-02-01</td>\n",
              "    </tr>\n",
              "    <tr>\n",
              "      <th>2</th>\n",
              "      <td>Andhra Pradesh</td>\n",
              "      <td>Hyderabad</td>\n",
              "      <td>Residential, Rural and other Areas</td>\n",
              "      <td>6.2</td>\n",
              "      <td>28.5</td>\n",
              "      <td>NaN</td>\n",
              "      <td>NaN</td>\n",
              "      <td>NaN</td>\n",
              "      <td>1990-02-01</td>\n",
              "    </tr>\n",
              "    <tr>\n",
              "      <th>3</th>\n",
              "      <td>Andhra Pradesh</td>\n",
              "      <td>Hyderabad</td>\n",
              "      <td>Residential, Rural and other Areas</td>\n",
              "      <td>6.3</td>\n",
              "      <td>14.7</td>\n",
              "      <td>NaN</td>\n",
              "      <td>NaN</td>\n",
              "      <td>NaN</td>\n",
              "      <td>1990-03-01</td>\n",
              "    </tr>\n",
              "    <tr>\n",
              "      <th>4</th>\n",
              "      <td>Andhra Pradesh</td>\n",
              "      <td>Hyderabad</td>\n",
              "      <td>Industrial Area</td>\n",
              "      <td>4.7</td>\n",
              "      <td>7.5</td>\n",
              "      <td>NaN</td>\n",
              "      <td>NaN</td>\n",
              "      <td>NaN</td>\n",
              "      <td>1990-03-01</td>\n",
              "    </tr>\n",
              "  </tbody>\n",
              "</table>\n",
              "</div>"
            ],
            "text/plain": [
              "            state   location  ... pm2_5        date\n",
              "0  Andhra Pradesh  Hyderabad  ...   NaN  1990-02-01\n",
              "1  Andhra Pradesh  Hyderabad  ...   NaN  1990-02-01\n",
              "2  Andhra Pradesh  Hyderabad  ...   NaN  1990-02-01\n",
              "3  Andhra Pradesh  Hyderabad  ...   NaN  1990-03-01\n",
              "4  Andhra Pradesh  Hyderabad  ...   NaN  1990-03-01\n",
              "\n",
              "[5 rows x 9 columns]"
            ]
          },
          "metadata": {
            "tags": []
          },
          "execution_count": 66
        }
      ]
    },
    {
      "cell_type": "code",
      "metadata": {
        "colab_type": "code",
        "id": "iOiix5rTdMh8",
        "colab": {}
      },
      "source": [
        "def remove_outlier(df_in, col_name):\n",
        "    q1 = df_in[col_name].quantile(0.25) #it is middle number between smallest value and median\n",
        "    q3 = df_in[col_name].quantile(0.75) #it is middle number between largest value and median\n",
        "    iqr = q3-q1 #Interquartile range\n",
        "    fence_low  = q1-1.5*iqr #any number suspected lower than this value is suspected outlier\n",
        "    fence_high = q3+1.5*iqr #any number suspected higher than this value is suspected outlier\n",
        "    df_out = df_in.loc[(df_in[col_name] > fence_low) & (df_in[col_name] < fence_high)]  # limiting the dataset values to just the range where outliers does not exists\n",
        "    #return df_out\n",
        "# calling function to remove outlier values from the pollutant columns of the dataset\n",
        "remove_outlier(dataset,'so2')\n",
        "remove_outlier(dataset,'no2')\n",
        "remove_outlier(dataset,'rspm')\n",
        "remove_outlier(dataset,'spm')\n"
      ],
      "execution_count": 0,
      "outputs": []
    },
    {
      "cell_type": "code",
      "metadata": {
        "colab_type": "code",
        "id": "uVtkIpxBdRIe",
        "colab": {}
      },
      "source": [
        "by_State=dataset.groupby('state')#grouping dataset by state\n",
        "\n",
        "# filling the nan values with the mean of that column \n",
        "\n",
        "def impute_mean(series):\n",
        "    return series.fillna(series.mean())\n",
        "\n",
        "dataset['rspm'] = by_State['rspm'].transform(impute_mean)    #transforming null values in rspm column\n",
        "dataset['so2'] = by_State['so2'].transform(impute_mean)      #transforming null values in so2 column\n",
        "dataset['no2'] = by_State['no2'].transform(impute_mean)      #transforming null values in no2 column\n",
        "dataset['spm'] = by_State['spm'].transform(impute_mean)      #transforming null values in spm column\n",
        "dataset['pm2_5'] = by_State['pm2_5'].transform(impute_mean)  #transforming null values in pm25 column\n"
      ],
      "execution_count": 0,
      "outputs": []
    },
    {
      "cell_type": "code",
      "metadata": {
        "colab_type": "code",
        "id": "C8b8-2nJdT6m",
        "outputId": "9e411527-5d2a-43ce-bdf3-2a9150a4b8b1",
        "colab": {
          "base_uri": "https://localhost:8080/",
          "height": 204
        }
      },
      "source": [
        "#Missing values being filled in columns\n",
        "for col in dataset.columns.values:\n",
        "    if dataset[col].isnull().sum() == 0:\n",
        "        continue\n",
        "    if col == 'date':          # filling mean values in data point date\n",
        "        guess_values = dataset.groupby('state')['date'].apply(lambda x: x.mode().max())\n",
        "    elif col=='type':         #filling mean values in data point type\n",
        "        guess_values = dataset.groupby('state')['type'].apply(lambda x: x.mode().max())\n",
        "    else:                     #filling mean values in data point location\n",
        "        guess_values = dataset.groupby('state')['location'].apply(lambda x: x.mode().max())\n",
        "dataset.head()"
      ],
      "execution_count": 69,
      "outputs": [
        {
          "output_type": "execute_result",
          "data": {
            "text/html": [
              "<div>\n",
              "<style scoped>\n",
              "    .dataframe tbody tr th:only-of-type {\n",
              "        vertical-align: middle;\n",
              "    }\n",
              "\n",
              "    .dataframe tbody tr th {\n",
              "        vertical-align: top;\n",
              "    }\n",
              "\n",
              "    .dataframe thead th {\n",
              "        text-align: right;\n",
              "    }\n",
              "</style>\n",
              "<table border=\"1\" class=\"dataframe\">\n",
              "  <thead>\n",
              "    <tr style=\"text-align: right;\">\n",
              "      <th></th>\n",
              "      <th>state</th>\n",
              "      <th>location</th>\n",
              "      <th>type</th>\n",
              "      <th>so2</th>\n",
              "      <th>no2</th>\n",
              "      <th>rspm</th>\n",
              "      <th>spm</th>\n",
              "      <th>pm2_5</th>\n",
              "      <th>date</th>\n",
              "    </tr>\n",
              "  </thead>\n",
              "  <tbody>\n",
              "    <tr>\n",
              "      <th>0</th>\n",
              "      <td>Andhra Pradesh</td>\n",
              "      <td>Hyderabad</td>\n",
              "      <td>Residential, Rural and other Areas</td>\n",
              "      <td>4.8</td>\n",
              "      <td>17.4</td>\n",
              "      <td>78.182824</td>\n",
              "      <td>200.260378</td>\n",
              "      <td>NaN</td>\n",
              "      <td>1990-02-01</td>\n",
              "    </tr>\n",
              "    <tr>\n",
              "      <th>1</th>\n",
              "      <td>Andhra Pradesh</td>\n",
              "      <td>Hyderabad</td>\n",
              "      <td>Industrial Area</td>\n",
              "      <td>3.1</td>\n",
              "      <td>7.0</td>\n",
              "      <td>78.182824</td>\n",
              "      <td>200.260378</td>\n",
              "      <td>NaN</td>\n",
              "      <td>1990-02-01</td>\n",
              "    </tr>\n",
              "    <tr>\n",
              "      <th>2</th>\n",
              "      <td>Andhra Pradesh</td>\n",
              "      <td>Hyderabad</td>\n",
              "      <td>Residential, Rural and other Areas</td>\n",
              "      <td>6.2</td>\n",
              "      <td>28.5</td>\n",
              "      <td>78.182824</td>\n",
              "      <td>200.260378</td>\n",
              "      <td>NaN</td>\n",
              "      <td>1990-02-01</td>\n",
              "    </tr>\n",
              "    <tr>\n",
              "      <th>3</th>\n",
              "      <td>Andhra Pradesh</td>\n",
              "      <td>Hyderabad</td>\n",
              "      <td>Residential, Rural and other Areas</td>\n",
              "      <td>6.3</td>\n",
              "      <td>14.7</td>\n",
              "      <td>78.182824</td>\n",
              "      <td>200.260378</td>\n",
              "      <td>NaN</td>\n",
              "      <td>1990-03-01</td>\n",
              "    </tr>\n",
              "    <tr>\n",
              "      <th>4</th>\n",
              "      <td>Andhra Pradesh</td>\n",
              "      <td>Hyderabad</td>\n",
              "      <td>Industrial Area</td>\n",
              "      <td>4.7</td>\n",
              "      <td>7.5</td>\n",
              "      <td>78.182824</td>\n",
              "      <td>200.260378</td>\n",
              "      <td>NaN</td>\n",
              "      <td>1990-03-01</td>\n",
              "    </tr>\n",
              "  </tbody>\n",
              "</table>\n",
              "</div>"
            ],
            "text/plain": [
              "            state   location  ... pm2_5        date\n",
              "0  Andhra Pradesh  Hyderabad  ...   NaN  1990-02-01\n",
              "1  Andhra Pradesh  Hyderabad  ...   NaN  1990-02-01\n",
              "2  Andhra Pradesh  Hyderabad  ...   NaN  1990-02-01\n",
              "3  Andhra Pradesh  Hyderabad  ...   NaN  1990-03-01\n",
              "4  Andhra Pradesh  Hyderabad  ...   NaN  1990-03-01\n",
              "\n",
              "[5 rows x 9 columns]"
            ]
          },
          "metadata": {
            "tags": []
          },
          "execution_count": 69
        }
      ]
    },
    {
      "cell_type": "markdown",
      "metadata": {
        "colab_type": "text",
        "id": "2P8l1GcSi-_P"
      },
      "source": [
        "### Correlation among original pollutant features\n",
        "df.corr() compute pairwise correlation of columns.Correlation shows how the two variables are related to each other.Positive values shows as one variable increases other variable increases as well. Negative values shows as one variable increases other variable decreases.Bigger the values,more strongly two varibles are correlated and viceversa."
      ]
    },
    {
      "cell_type": "code",
      "metadata": {
        "colab_type": "code",
        "id": "VUktTP2VinC0",
        "outputId": "f9f0f12d-33e2-4396-d38d-e963b7594b89",
        "colab": {
          "base_uri": "https://localhost:8080/",
          "height": 173
        }
      },
      "source": [
        "# Computing coorelation between pollutants\n",
        "df = dataset[['so2','no2','rspm','spm']]   # independent variables matrix - pollutant concentrations\n",
        "df.corr() # computing correlation"
      ],
      "execution_count": 70,
      "outputs": [
        {
          "output_type": "execute_result",
          "data": {
            "text/html": [
              "<div>\n",
              "<style scoped>\n",
              "    .dataframe tbody tr th:only-of-type {\n",
              "        vertical-align: middle;\n",
              "    }\n",
              "\n",
              "    .dataframe tbody tr th {\n",
              "        vertical-align: top;\n",
              "    }\n",
              "\n",
              "    .dataframe thead th {\n",
              "        text-align: right;\n",
              "    }\n",
              "</style>\n",
              "<table border=\"1\" class=\"dataframe\">\n",
              "  <thead>\n",
              "    <tr style=\"text-align: right;\">\n",
              "      <th></th>\n",
              "      <th>so2</th>\n",
              "      <th>no2</th>\n",
              "      <th>rspm</th>\n",
              "      <th>spm</th>\n",
              "    </tr>\n",
              "  </thead>\n",
              "  <tbody>\n",
              "    <tr>\n",
              "      <th>so2</th>\n",
              "      <td>1.000000</td>\n",
              "      <td>0.346429</td>\n",
              "      <td>0.160417</td>\n",
              "      <td>0.142689</td>\n",
              "    </tr>\n",
              "    <tr>\n",
              "      <th>no2</th>\n",
              "      <td>0.346429</td>\n",
              "      <td>1.000000</td>\n",
              "      <td>0.352189</td>\n",
              "      <td>0.326767</td>\n",
              "    </tr>\n",
              "    <tr>\n",
              "      <th>rspm</th>\n",
              "      <td>0.160417</td>\n",
              "      <td>0.352189</td>\n",
              "      <td>1.000000</td>\n",
              "      <td>0.618619</td>\n",
              "    </tr>\n",
              "    <tr>\n",
              "      <th>spm</th>\n",
              "      <td>0.142689</td>\n",
              "      <td>0.326767</td>\n",
              "      <td>0.618619</td>\n",
              "      <td>1.000000</td>\n",
              "    </tr>\n",
              "  </tbody>\n",
              "</table>\n",
              "</div>"
            ],
            "text/plain": [
              "           so2       no2      rspm       spm\n",
              "so2   1.000000  0.346429  0.160417  0.142689\n",
              "no2   0.346429  1.000000  0.352189  0.326767\n",
              "rspm  0.160417  0.352189  1.000000  0.618619\n",
              "spm   0.142689  0.326767  0.618619  1.000000"
            ]
          },
          "metadata": {
            "tags": []
          },
          "execution_count": 70
        }
      ]
    },
    {
      "cell_type": "code",
      "metadata": {
        "colab_type": "code",
        "id": "0wPjEwBWjm1F",
        "outputId": "0c42090f-62c1-4ab5-ae3b-aafccf1b4c06",
        "colab": {
          "base_uri": "https://localhost:8080/",
          "height": 595
        }
      },
      "source": [
        "correlation = df.corr() # computing correlation\n",
        "plt.figure(figsize=(10,10)) # plotting results\n",
        "sns.heatmap(correlation, vmax=1, square=True, annot=True, cmap='cubehelix') \n",
        "\n",
        "plt.title('Correlation between different fearures')"
      ],
      "execution_count": 71,
      "outputs": [
        {
          "output_type": "execute_result",
          "data": {
            "text/plain": [
              "Text(0.5, 1.0, 'Correlation between different fearures')"
            ]
          },
          "metadata": {
            "tags": []
          },
          "execution_count": 71
        },
        {
          "output_type": "display_data",
          "data": {
            "image/png": "[encoded data removed]",
            "text/plain": [
              "<Figure size 720x720 with 2 Axes>"
            ]
          },
          "metadata": {
            "tags": []
          }
        }
      ]
    },
    {
      "cell_type": "code",
      "metadata": {
        "colab_type": "code",
        "id": "Xc-npcYmdVpn",
        "outputId": "10fdc50e-799f-4383-fbfd-597fa72e215c",
        "colab": {
          "base_uri": "https://localhost:8080/",
          "height": 204
        }
      },
      "source": [
        "# Derivation for Individual Pollutant Index and AQI STARTS HERE\n",
        "\n",
        "# EPA METHOD FORMULA\n",
        "#  AQI_{P} = AQI_{min} +  ({PM_{Obs}-PM_{Min}}/{(PM_{Max}-PM_{Min})})* {AQI_{Max}-AQI_{Min}}\n",
        "\n",
        "# calculating AQI index of SO2 pollutant by EPA method formula given above\n",
        "#  SO2 is scaled between 0-1600\n",
        "def calculate_si(so2):\n",
        "    si=0\n",
        "    if (so2<=40):\n",
        "     si = so2 * (50/40)\n",
        "    elif (so2>40 and so2<=80):\n",
        "     si = 50 + (so2-40) * (50/(80-40))\n",
        "    elif (so2>80 and so2<=380):\n",
        "     si = 100 + (so2-80) * (100/(380-80))\n",
        "    elif (so2>380 and so2<=800):\n",
        "     si = 200 + (so2-380) * (100/(800-380))\n",
        "    elif (so2>800 and so2<=1600):\n",
        "     si = 300 + (so2-800) * (100/(1600-800))\n",
        "    elif (so2>1600):\n",
        "     si = 400 + (so2-1600) * (100/800)\n",
        "    return si\n",
        "\n",
        "# calling the function to calulate so2 pollutant index\n",
        "dataset['si'] = dataset['so2'].apply(calculate_si)\n",
        "df_si = dataset[['so2','si']]\n",
        "df_si.head()"
      ],
      "execution_count": 72,
      "outputs": [
        {
          "output_type": "execute_result",
          "data": {
            "text/html": [
              "<div>\n",
              "<style scoped>\n",
              "    .dataframe tbody tr th:only-of-type {\n",
              "        vertical-align: middle;\n",
              "    }\n",
              "\n",
              "    .dataframe tbody tr th {\n",
              "        vertical-align: top;\n",
              "    }\n",
              "\n",
              "    .dataframe thead th {\n",
              "        text-align: right;\n",
              "    }\n",
              "</style>\n",
              "<table border=\"1\" class=\"dataframe\">\n",
              "  <thead>\n",
              "    <tr style=\"text-align: right;\">\n",
              "      <th></th>\n",
              "      <th>so2</th>\n",
              "      <th>si</th>\n",
              "    </tr>\n",
              "  </thead>\n",
              "  <tbody>\n",
              "    <tr>\n",
              "      <th>0</th>\n",
              "      <td>4.8</td>\n",
              "      <td>6.000</td>\n",
              "    </tr>\n",
              "    <tr>\n",
              "      <th>1</th>\n",
              "      <td>3.1</td>\n",
              "      <td>3.875</td>\n",
              "    </tr>\n",
              "    <tr>\n",
              "      <th>2</th>\n",
              "      <td>6.2</td>\n",
              "      <td>7.750</td>\n",
              "    </tr>\n",
              "    <tr>\n",
              "      <th>3</th>\n",
              "      <td>6.3</td>\n",
              "      <td>7.875</td>\n",
              "    </tr>\n",
              "    <tr>\n",
              "      <th>4</th>\n",
              "      <td>4.7</td>\n",
              "      <td>5.875</td>\n",
              "    </tr>\n",
              "  </tbody>\n",
              "</table>\n",
              "</div>"
            ],
            "text/plain": [
              "   so2     si\n",
              "0  4.8  6.000\n",
              "1  3.1  3.875\n",
              "2  6.2  7.750\n",
              "3  6.3  7.875\n",
              "4  4.7  5.875"
            ]
          },
          "metadata": {
            "tags": []
          },
          "execution_count": 72
        }
      ]
    },
    {
      "cell_type": "code",
      "metadata": {
        "colab_type": "code",
        "id": "hZGg8_UldYom",
        "outputId": "49758027-69ff-4e46-8fa5-a519fefbd45f",
        "colab": {
          "base_uri": "https://localhost:8080/",
          "height": 204
        }
      },
      "source": [
        "#Function to calculate no2 individual pollutant index(ni)\n",
        "\n",
        "# EPA METHOD FORMULA\n",
        "#  AQI_{PM} = AQI_{min} +  ({PM_{Obs}-PM_{Min}}/{(PM_{Max}-PM_{Min})})* {AQI_{Max}-AQI_{Min}}\n",
        "\n",
        "# calculating AQI index of NO2 pollutant by EPA method formula given above\n",
        "#  NO2 is scaled between 0-400\n",
        "def calculate_ni(no2):\n",
        "    ni = 0\n",
        "    if(no2<=40):\n",
        "     ni = no2*50/40\n",
        "    elif(no2>40 and no2<=80):\n",
        "     ni = 50 + (no2-40)*(50/(80-40))\n",
        "    elif(no2>80 and no2<=180):\n",
        "     ni = 100 + (no2-80)*(100/(180-80))\n",
        "    elif(no2>180 and no2<=280):\n",
        "     ni = 200 + (no2-180)*(100/(280-180))\n",
        "    elif(no2>280 and no2<=400):\n",
        "     ni = 300 + (no2-280)*(100/(400-280))\n",
        "    else:\n",
        "     ni = 400 + (no2-400)*(100/120)\n",
        "    return ni\n",
        "\n",
        "# calling the function to calulate so2 pollutant index\n",
        "dataset['ni'] = dataset['no2'].apply(calculate_ni)\n",
        "df_ni = dataset[['no2','ni']]\n",
        "df_ni.head()"
      ],
      "execution_count": 73,
      "outputs": [
        {
          "output_type": "execute_result",
          "data": {
            "text/html": [
              "<div>\n",
              "<style scoped>\n",
              "    .dataframe tbody tr th:only-of-type {\n",
              "        vertical-align: middle;\n",
              "    }\n",
              "\n",
              "    .dataframe tbody tr th {\n",
              "        vertical-align: top;\n",
              "    }\n",
              "\n",
              "    .dataframe thead th {\n",
              "        text-align: right;\n",
              "    }\n",
              "</style>\n",
              "<table border=\"1\" class=\"dataframe\">\n",
              "  <thead>\n",
              "    <tr style=\"text-align: right;\">\n",
              "      <th></th>\n",
              "      <th>no2</th>\n",
              "      <th>ni</th>\n",
              "    </tr>\n",
              "  </thead>\n",
              "  <tbody>\n",
              "    <tr>\n",
              "      <th>0</th>\n",
              "      <td>17.4</td>\n",
              "      <td>21.750</td>\n",
              "    </tr>\n",
              "    <tr>\n",
              "      <th>1</th>\n",
              "      <td>7.0</td>\n",
              "      <td>8.750</td>\n",
              "    </tr>\n",
              "    <tr>\n",
              "      <th>2</th>\n",
              "      <td>28.5</td>\n",
              "      <td>35.625</td>\n",
              "    </tr>\n",
              "    <tr>\n",
              "      <th>3</th>\n",
              "      <td>14.7</td>\n",
              "      <td>18.375</td>\n",
              "    </tr>\n",
              "    <tr>\n",
              "      <th>4</th>\n",
              "      <td>7.5</td>\n",
              "      <td>9.375</td>\n",
              "    </tr>\n",
              "  </tbody>\n",
              "</table>\n",
              "</div>"
            ],
            "text/plain": [
              "    no2      ni\n",
              "0  17.4  21.750\n",
              "1   7.0   8.750\n",
              "2  28.5  35.625\n",
              "3  14.7  18.375\n",
              "4   7.5   9.375"
            ]
          },
          "metadata": {
            "tags": []
          },
          "execution_count": 73
        }
      ]
    },
    {
      "cell_type": "code",
      "metadata": {
        "colab_type": "code",
        "id": "3vYdpuszdasY",
        "outputId": "1c08d0cc-53c3-4a58-f61a-dabc9bd44fd8",
        "colab": {
          "base_uri": "https://localhost:8080/",
          "height": 204
        }
      },
      "source": [
        "#Function to calculate rspm individual pollutant index(rpi)\n",
        "\n",
        "# EPA METHOD FORMULA\n",
        "#  AQI_{PM} = AQI_{min} +  ({PM_{Obs}-PM_{Min}}/{(PM_{Max}-PM_{Min})})* {AQI_{Max}-AQI_{Min}}\n",
        "\n",
        "# calculating AQI index of RSPM pollutant by EPA method formula given above\n",
        "#  RSPM is scaled between 0-400\n",
        "def calculate_(rspm):\n",
        "    rpi=0\n",
        "    if(rpi<=30):\n",
        "     rpi = rpi*50/30\n",
        "    elif(rpi>30 and rpi<=60):\n",
        "     rpi = 50+(rpi-30)*50/(60-30)\n",
        "    elif(rpi>60 and rpi<=90):\n",
        "     rpi = 100+(rpi-60)*100/(90-60)\n",
        "    elif(rpi>90 and rpi<=120):\n",
        "     rpi = 200+(rpi-90)*100/(120-90)\n",
        "    elif(rpi>120 and rpi<=250):\n",
        "     rpi = 300+(rpi-120)*(100/(250-120))\n",
        "    else:\n",
        "     rpi = 400+(rpi-250)*(100/130)\n",
        "    return rpi\n",
        "\n",
        "# calling the function to calulate RSPM pollutant index\n",
        "dataset['rpi']=dataset['rspm'].apply(calculate_si)\n",
        "df_rpi = dataset[['rspm','rpi']]\n",
        "df_rpi.head()\n"
      ],
      "execution_count": 74,
      "outputs": [
        {
          "output_type": "execute_result",
          "data": {
            "text/html": [
              "<div>\n",
              "<style scoped>\n",
              "    .dataframe tbody tr th:only-of-type {\n",
              "        vertical-align: middle;\n",
              "    }\n",
              "\n",
              "    .dataframe tbody tr th {\n",
              "        vertical-align: top;\n",
              "    }\n",
              "\n",
              "    .dataframe thead th {\n",
              "        text-align: right;\n",
              "    }\n",
              "</style>\n",
              "<table border=\"1\" class=\"dataframe\">\n",
              "  <thead>\n",
              "    <tr style=\"text-align: right;\">\n",
              "      <th></th>\n",
              "      <th>rspm</th>\n",
              "      <th>rpi</th>\n",
              "    </tr>\n",
              "  </thead>\n",
              "  <tbody>\n",
              "    <tr>\n",
              "      <th>0</th>\n",
              "      <td>78.182824</td>\n",
              "      <td>97.72853</td>\n",
              "    </tr>\n",
              "    <tr>\n",
              "      <th>1</th>\n",
              "      <td>78.182824</td>\n",
              "      <td>97.72853</td>\n",
              "    </tr>\n",
              "    <tr>\n",
              "      <th>2</th>\n",
              "      <td>78.182824</td>\n",
              "      <td>97.72853</td>\n",
              "    </tr>\n",
              "    <tr>\n",
              "      <th>3</th>\n",
              "      <td>78.182824</td>\n",
              "      <td>97.72853</td>\n",
              "    </tr>\n",
              "    <tr>\n",
              "      <th>4</th>\n",
              "      <td>78.182824</td>\n",
              "      <td>97.72853</td>\n",
              "    </tr>\n",
              "  </tbody>\n",
              "</table>\n",
              "</div>"
            ],
            "text/plain": [
              "        rspm       rpi\n",
              "0  78.182824  97.72853\n",
              "1  78.182824  97.72853\n",
              "2  78.182824  97.72853\n",
              "3  78.182824  97.72853\n",
              "4  78.182824  97.72853"
            ]
          },
          "metadata": {
            "tags": []
          },
          "execution_count": 74
        }
      ]
    },
    {
      "cell_type": "code",
      "metadata": {
        "colab_type": "code",
        "id": "W5391Dhqdcxz",
        "outputId": "afb08da4-8d54-4cd1-9830-d92d1657e81a",
        "colab": {
          "base_uri": "https://localhost:8080/",
          "height": 204
        }
      },
      "source": [
        "#Function to calculate spm individual pollutant index(spi)\n",
        "\n",
        "# EPA METHOD FORMULA\n",
        "#  AQI_{PM} = AQI_{min} +  ({PM_{Obs}-PM_{Min}}/{(PM_{Max}-PM_{Min})})* {AQI_{Max}-AQI_{Min}}\n",
        "\n",
        "# calculating AQI index of SPM pollutant by EPA method formula given above\n",
        "#  SPM is scaled between 0-400\n",
        "def calculate_spi(spm):\n",
        "    spi=0\n",
        "    if(spm<=50):\n",
        "     spi = spm*50/50\n",
        "    elif(spm>50 and spm<=100):\n",
        "     spi = 50 + (spm-50)*(50/(100-50))\n",
        "    elif(spm>100 and spm<=250):\n",
        "     spi = 100 + (spm-100)*(100/(250-100))\n",
        "    elif(spm>250 and spm<=350):\n",
        "     spi=200 + (spm-250)*(100/(350-250))\n",
        "    elif(spm>350 and spm<=430):\n",
        "     spi=300 + (spm-350)*(100/(430-350))\n",
        "    else:\n",
        "     spi=400+(spm-430)*(100/430)\n",
        "    return spi\n",
        "\n",
        "# calling the function to calulate SPM pollutant index\n",
        "dataset['spi'] = dataset['spm'].apply(calculate_spi)\n",
        "df_spm = dataset[['spm','spi']]\n",
        "df_spm.head()"
      ],
      "execution_count": 75,
      "outputs": [
        {
          "output_type": "execute_result",
          "data": {
            "text/html": [
              "<div>\n",
              "<style scoped>\n",
              "    .dataframe tbody tr th:only-of-type {\n",
              "        vertical-align: middle;\n",
              "    }\n",
              "\n",
              "    .dataframe tbody tr th {\n",
              "        vertical-align: top;\n",
              "    }\n",
              "\n",
              "    .dataframe thead th {\n",
              "        text-align: right;\n",
              "    }\n",
              "</style>\n",
              "<table border=\"1\" class=\"dataframe\">\n",
              "  <thead>\n",
              "    <tr style=\"text-align: right;\">\n",
              "      <th></th>\n",
              "      <th>spm</th>\n",
              "      <th>spi</th>\n",
              "    </tr>\n",
              "  </thead>\n",
              "  <tbody>\n",
              "    <tr>\n",
              "      <th>0</th>\n",
              "      <td>200.260378</td>\n",
              "      <td>166.840252</td>\n",
              "    </tr>\n",
              "    <tr>\n",
              "      <th>1</th>\n",
              "      <td>200.260378</td>\n",
              "      <td>166.840252</td>\n",
              "    </tr>\n",
              "    <tr>\n",
              "      <th>2</th>\n",
              "      <td>200.260378</td>\n",
              "      <td>166.840252</td>\n",
              "    </tr>\n",
              "    <tr>\n",
              "      <th>3</th>\n",
              "      <td>200.260378</td>\n",
              "      <td>166.840252</td>\n",
              "    </tr>\n",
              "    <tr>\n",
              "      <th>4</th>\n",
              "      <td>200.260378</td>\n",
              "      <td>166.840252</td>\n",
              "    </tr>\n",
              "  </tbody>\n",
              "</table>\n",
              "</div>"
            ],
            "text/plain": [
              "          spm         spi\n",
              "0  200.260378  166.840252\n",
              "1  200.260378  166.840252\n",
              "2  200.260378  166.840252\n",
              "3  200.260378  166.840252\n",
              "4  200.260378  166.840252"
            ]
          },
          "metadata": {
            "tags": []
          },
          "execution_count": 75
        }
      ]
    },
    {
      "cell_type": "code",
      "metadata": {
        "colab_type": "code",
        "id": "_N6n0B3SdfLw",
        "outputId": "fe2a867c-2831-40e7-920e-08cd0913c6a7",
        "colab": {
          "base_uri": "https://localhost:8080/",
          "height": 204
        }
      },
      "source": [
        "#function to calculate the air quality index (AQI) of every data value its is calculated as per indian govt standards\n",
        "\n",
        "# AQI = MAX ( AQI_{SO2}, AQI_{NO2}, AQI_{RSPM}, AQI_{SPM})\n",
        "def calculate_aqi(si,ni,spi,rpi):\n",
        "    aqi=0\n",
        "    if(si>ni and si>spi and si>rpi):\n",
        "     aqi=si\n",
        "    if(spi>si and spi>ni and spi>rpi):\n",
        "     aqi=spi\n",
        "    if(ni>si and ni>spi and ni>rpi):\n",
        "     aqi=ni\n",
        "    if(rpi>si and rpi>ni and rpi>spi):\n",
        "     aqi=rpi\n",
        "    return aqi\n",
        "\n",
        "# calling the function to calulate AQI \n",
        "dataset['AQI'] = dataset.apply(lambda x:calculate_aqi(x['si'],x['ni'],x['spi'],x['rpi']),axis=1)\n",
        "df= dataset[['state','si','ni','rpi','spi','AQI']]\n",
        "df.head()"
      ],
      "execution_count": 76,
      "outputs": [
        {
          "output_type": "execute_result",
          "data": {
            "text/html": [
              "<div>\n",
              "<style scoped>\n",
              "    .dataframe tbody tr th:only-of-type {\n",
              "        vertical-align: middle;\n",
              "    }\n",
              "\n",
              "    .dataframe tbody tr th {\n",
              "        vertical-align: top;\n",
              "    }\n",
              "\n",
              "    .dataframe thead th {\n",
              "        text-align: right;\n",
              "    }\n",
              "</style>\n",
              "<table border=\"1\" class=\"dataframe\">\n",
              "  <thead>\n",
              "    <tr style=\"text-align: right;\">\n",
              "      <th></th>\n",
              "      <th>state</th>\n",
              "      <th>si</th>\n",
              "      <th>ni</th>\n",
              "      <th>rpi</th>\n",
              "      <th>spi</th>\n",
              "      <th>AQI</th>\n",
              "    </tr>\n",
              "  </thead>\n",
              "  <tbody>\n",
              "    <tr>\n",
              "      <th>0</th>\n",
              "      <td>Andhra Pradesh</td>\n",
              "      <td>6.000</td>\n",
              "      <td>21.750</td>\n",
              "      <td>97.72853</td>\n",
              "      <td>166.840252</td>\n",
              "      <td>166.840252</td>\n",
              "    </tr>\n",
              "    <tr>\n",
              "      <th>1</th>\n",
              "      <td>Andhra Pradesh</td>\n",
              "      <td>3.875</td>\n",
              "      <td>8.750</td>\n",
              "      <td>97.72853</td>\n",
              "      <td>166.840252</td>\n",
              "      <td>166.840252</td>\n",
              "    </tr>\n",
              "    <tr>\n",
              "      <th>2</th>\n",
              "      <td>Andhra Pradesh</td>\n",
              "      <td>7.750</td>\n",
              "      <td>35.625</td>\n",
              "      <td>97.72853</td>\n",
              "      <td>166.840252</td>\n",
              "      <td>166.840252</td>\n",
              "    </tr>\n",
              "    <tr>\n",
              "      <th>3</th>\n",
              "      <td>Andhra Pradesh</td>\n",
              "      <td>7.875</td>\n",
              "      <td>18.375</td>\n",
              "      <td>97.72853</td>\n",
              "      <td>166.840252</td>\n",
              "      <td>166.840252</td>\n",
              "    </tr>\n",
              "    <tr>\n",
              "      <th>4</th>\n",
              "      <td>Andhra Pradesh</td>\n",
              "      <td>5.875</td>\n",
              "      <td>9.375</td>\n",
              "      <td>97.72853</td>\n",
              "      <td>166.840252</td>\n",
              "      <td>166.840252</td>\n",
              "    </tr>\n",
              "  </tbody>\n",
              "</table>\n",
              "</div>"
            ],
            "text/plain": [
              "            state     si      ni       rpi         spi         AQI\n",
              "0  Andhra Pradesh  6.000  21.750  97.72853  166.840252  166.840252\n",
              "1  Andhra Pradesh  3.875   8.750  97.72853  166.840252  166.840252\n",
              "2  Andhra Pradesh  7.750  35.625  97.72853  166.840252  166.840252\n",
              "3  Andhra Pradesh  7.875  18.375  97.72853  166.840252  166.840252\n",
              "4  Andhra Pradesh  5.875   9.375  97.72853  166.840252  166.840252"
            ]
          },
          "metadata": {
            "tags": []
          },
          "execution_count": 76
        }
      ]
    },
    {
      "cell_type": "code",
      "metadata": {
        "colab_type": "code",
        "id": "fbGNraXvdhzL",
        "colab": {}
      },
      "source": [
        "# filling 0 in the place of NAN values\n",
        "dataset.fillna(0.0, inplace=True)\n",
        "state=dataset.groupby(['state'],as_index=False).mean()  # calulating mean of the pollutant concentration for each state"
      ],
      "execution_count": 0,
      "outputs": []
    },
    {
      "cell_type": "markdown",
      "metadata": {
        "colab_type": "text",
        "id": "_ygPWGtuKO-N"
      },
      "source": [
        "Computing Correlation among the features in the dataset"
      ]
    },
    {
      "cell_type": "code",
      "metadata": {
        "colab_type": "code",
        "id": "VtJVshSipZut",
        "outputId": "cbdf4441-d3f9-47db-f775-1082d4271a5a",
        "colab": {
          "base_uri": "https://localhost:8080/",
          "height": 173
        }
      },
      "source": [
        "# Computing coorelation between pollutants\n",
        "df1 = dataset[['si','ni','rpi','spi']]   # independent variables matrix - pollutant concentrations\n",
        "df1.corr()"
      ],
      "execution_count": 78,
      "outputs": [
        {
          "output_type": "execute_result",
          "data": {
            "text/html": [
              "<div>\n",
              "<style scoped>\n",
              "    .dataframe tbody tr th:only-of-type {\n",
              "        vertical-align: middle;\n",
              "    }\n",
              "\n",
              "    .dataframe tbody tr th {\n",
              "        vertical-align: top;\n",
              "    }\n",
              "\n",
              "    .dataframe thead th {\n",
              "        text-align: right;\n",
              "    }\n",
              "</style>\n",
              "<table border=\"1\" class=\"dataframe\">\n",
              "  <thead>\n",
              "    <tr style=\"text-align: right;\">\n",
              "      <th></th>\n",
              "      <th>si</th>\n",
              "      <th>ni</th>\n",
              "      <th>rpi</th>\n",
              "      <th>spi</th>\n",
              "    </tr>\n",
              "  </thead>\n",
              "  <tbody>\n",
              "    <tr>\n",
              "      <th>si</th>\n",
              "      <td>1.000000</td>\n",
              "      <td>0.383492</td>\n",
              "      <td>0.215005</td>\n",
              "      <td>0.158088</td>\n",
              "    </tr>\n",
              "    <tr>\n",
              "      <th>ni</th>\n",
              "      <td>0.383492</td>\n",
              "      <td>1.000000</td>\n",
              "      <td>0.360968</td>\n",
              "      <td>0.328635</td>\n",
              "    </tr>\n",
              "    <tr>\n",
              "      <th>rpi</th>\n",
              "      <td>0.215005</td>\n",
              "      <td>0.360968</td>\n",
              "      <td>1.000000</td>\n",
              "      <td>0.613163</td>\n",
              "    </tr>\n",
              "    <tr>\n",
              "      <th>spi</th>\n",
              "      <td>0.158088</td>\n",
              "      <td>0.328635</td>\n",
              "      <td>0.613163</td>\n",
              "      <td>1.000000</td>\n",
              "    </tr>\n",
              "  </tbody>\n",
              "</table>\n",
              "</div>"
            ],
            "text/plain": [
              "           si        ni       rpi       spi\n",
              "si   1.000000  0.383492  0.215005  0.158088\n",
              "ni   0.383492  1.000000  0.360968  0.328635\n",
              "rpi  0.215005  0.360968  1.000000  0.613163\n",
              "spi  0.158088  0.328635  0.613163  1.000000"
            ]
          },
          "metadata": {
            "tags": []
          },
          "execution_count": 78
        }
      ]
    },
    {
      "cell_type": "code",
      "metadata": {
        "colab_type": "code",
        "id": "s-CT7djhpiGb",
        "outputId": "33a06d71-45a5-4164-ef37-a9986bf38ece",
        "colab": {
          "base_uri": "https://localhost:8080/",
          "height": 595
        }
      },
      "source": [
        "correlation = df1.corr()\n",
        "plt.figure(figsize=(10,10))\n",
        "sns.heatmap(correlation, vmax=1, square=True, annot=True, cmap='cubehelix')\n",
        "\n",
        "plt.title('Correlation between pollutant index of each of the pollutants')"
      ],
      "execution_count": 79,
      "outputs": [
        {
          "output_type": "execute_result",
          "data": {
            "text/plain": [
              "Text(0.5, 1.0, 'Correlation between pollutant index of each of the pollutants')"
            ]
          },
          "metadata": {
            "tags": []
          },
          "execution_count": 79
        },
        {
          "output_type": "display_data",
          "data": {
            "image/png": "[encoded data removed]",
            "text/plain": [
              "<Figure size 720x720 with 2 Axes>"
            ]
          },
          "metadata": {
            "tags": []
          }
        }
      ]
    },
    {
      "cell_type": "markdown",
      "metadata": {
        "colab_type": "text",
        "id": "L1CidQLJhkYx"
      },
      "source": [
        "# 2 PCA Analysis"
      ]
    },
    {
      "cell_type": "markdown",
      "metadata": {
        "colab_type": "text",
        "id": "yND2rxuGbDo9"
      },
      "source": [
        "## 2.1 Functions for computing PCA\n",
        "### 2.1.1 Normalize Function"
      ]
    },
    {
      "cell_type": "code",
      "metadata": {
        "colab_type": "code",
        "id": "ghHDvq6ie7ht",
        "colab": {}
      },
      "source": [
        "# Normalize Function\n",
        "def normalize(X):\n",
        "  \"\"\"Normalize the given dataset X\n",
        "  Args:\n",
        "  X: ndarray, dataset\n",
        "\n",
        "  Returns:\n",
        "  (Xbar, mean, std): tuple of ndarray, Xbar is the normalized dataset\n",
        "  with mean 0 and standard deviation 1; mean and std are the\n",
        "  mean and standard deviation respectively.\n",
        "\n",
        "  Note:\n",
        "  You will encounter dimensions where the standard deviation is\n",
        "  zero, for those when you do normalization the normalized data\n",
        "  will be NaN. Handle this by setting using `std = 1` for those\n",
        "  dimensions when doing normalization.\n",
        "  \"\"\"\n",
        "  mu = np.mean(X, axis=0) #mean\n",
        "  std = np.std(X, axis=0) #standard deviation\n",
        "  new_std = np.where(std>0,std,1) #new standard deviation\n",
        "  a = np.subtract(X,mu) # a = x- mean\n",
        "  Xbar = np.divide(a,new_std) # Xbar = a/new standard deviation\n",
        "  return Xbar, mu, std"
      ],
      "execution_count": 0,
      "outputs": []
    },
    {
      "cell_type": "markdown",
      "metadata": {
        "colab_type": "text",
        "id": "JgzWMfzcbNAH"
      },
      "source": [
        "### 2.1.2 Eig Function \n",
        "Computes Eigen Values and Eigen Vectors of Covariance Matrix S"
      ]
    },
    {
      "cell_type": "code",
      "metadata": {
        "colab_type": "code",
        "id": "XWxbUjIqhvY3",
        "colab": {}
      },
      "source": [
        "def eig(S):\n",
        "  \"\"\"Compute the eigenvalues and corresponding eigenvectors\n",
        "  for the covariance matrix S.\n",
        "  Args:\n",
        "  S: ndarray, covariance matrix\n",
        "  Returns:\n",
        "  (eigvals, eigvecs): ndarray, the eigenvalues and eigenvectors\n",
        "  Note:\n",
        "  the eigenvals and eigenvecs should be sorted in descending\n",
        "  order of the eigen values\n",
        "  \"\"\"\n",
        "  eigvals, eigvecs = np.linalg.eig(S) # computing eigen values and eigen vectors of our feature matrix\n",
        "  idx = eigvals.argsort()[::-1]       # sorting values in descending order\n",
        "  eigvals = eigvals[idx]              # replacing by sorted array\n",
        "  eigvecs = eigvecs[:,idx]            # replacing by sorted array\n",
        "\n",
        "  return (eigvals, eigvecs) "
      ],
      "execution_count": 0,
      "outputs": []
    },
    {
      "cell_type": "markdown",
      "metadata": {
        "colab_type": "text",
        "id": "U0c-ZwlzbZ2c"
      },
      "source": [
        "### 2.1.3 Projection Matrix Function"
      ]
    },
    {
      "cell_type": "code",
      "metadata": {
        "colab_type": "code",
        "id": "h0vVu7_YiGCH",
        "colab": {}
      },
      "source": [
        "def projection_matrix(B):\n",
        "  \"\"\"Compute the projection matrix onto the space spanned by `B`\n",
        "  Args:\n",
        "  B: ndarray of dimension (D, M), the basis for the subspace\n",
        "\n",
        "  Returns:\n",
        "  P: the projection matrix\n",
        "  \"\"\"\n",
        "  P = np.matmul(B,B.T) # P = B*B.T (projection Matrix)\n",
        "  return P\n"
      ],
      "execution_count": 0,
      "outputs": []
    },
    {
      "cell_type": "markdown",
      "metadata": {
        "colab_type": "text",
        "id": "dRCRa-rAcANX"
      },
      "source": [
        "### 2.1.4 PCA Function\n",
        "Takes X (input matrix) and M (number of components) as input and Computes Reconstructed X (input) matrix by appling Principal Component Analysis (PCA) "
      ]
    },
    {
      "cell_type": "code",
      "metadata": {
        "colab_type": "code",
        "id": "k2o5WGIXiU-H",
        "colab": {}
      },
      "source": [
        "def PCA(X, num_components):\n",
        "  \"\"\"\n",
        "  Args:\n",
        "  X: ndarray of size (N, D), where D is the dimension of the data,\n",
        "  and N is the number of datapoints\n",
        "  num_components: the number of principal components to use.\n",
        "  Returns:\n",
        "  X_reconstruct: ndarray of the reconstruction\n",
        "  of X from the first `num_components` principal components.\n",
        "  \"\"\"\n",
        "  Xbar, mu, std = normalize(X) # normalizing data\n",
        "  covariance = np.dot(Xbar.T,Xbar) # computing covariancematrix\n",
        "  S = covariance # S is denoted as our covariance matrix\n",
        "  eigvals, eigvecs = eig(S) # eigvals = eigen values and eigvecs = eigen vectors\n",
        "\n",
        "  sum_value = sum(eigvals[:num_components]) # sum of M (num_components) eigen values (principal components)\n",
        "  B = np.stack(eigvecs[:,:num_components]) # taking first M (num_components) principal components to form matrix B\n",
        "  P = np.matmul(B,B.T) # calculating P (projection matrix)  for  B\n",
        "  X_reconstruct = np.matmul(P,X.T) # reconstructing X\n",
        "  X_reconstruct = X_reconstruct.T # transposing reconstructed X\n",
        "  return X_reconstruct, sum_value \n"
      ],
      "execution_count": 0,
      "outputs": []
    },
    {
      "cell_type": "markdown",
      "metadata": {
        "colab_type": "text",
        "id": "YxopCud_caLS"
      },
      "source": [
        "## 2.2 Analysis of PCA for a particular value of M (say M=2)"
      ]
    },
    {
      "cell_type": "markdown",
      "metadata": {
        "colab_type": "text",
        "id": "NiV1eGZ1hINh"
      },
      "source": [
        "### 2.2.1 Defining Input Matrix "
      ]
    },
    {
      "cell_type": "code",
      "metadata": {
        "colab_type": "code",
        "id": "VndeLY6Vg90S",
        "outputId": "73f85e29-14bb-4878-aa2e-cc9bf693d2c0",
        "colab": {
          "base_uri": "https://localhost:8080/",
          "height": 272
        }
      },
      "source": [
        "# Computing input matrix X having four features and 435742 rows\n",
        "X = dataset[['si','ni','rpi','spi']]   # independent variables matrix - pollutant concentrations\n",
        "y = dataset['AQI']                     # target variable matrix - AQI\n",
        "\n",
        "print('The dimension of input matrix X is: ', X.shape)   # print shape of input matrix X\n",
        "print(X)\n"
      ],
      "execution_count": 84,
      "outputs": [
        {
          "output_type": "stream",
          "text": [
            "The dimension of input matrix X is:  (435742, 4)\n",
            "            si      ni         rpi         spi\n",
            "0        6.000  21.750   97.728530  166.840252\n",
            "1        3.875   8.750   97.728530  166.840252\n",
            "2        7.750  35.625   97.728530  166.840252\n",
            "3        7.875  18.375   97.728530  166.840252\n",
            "4        5.875   9.375   97.728530  166.840252\n",
            "...        ...     ...         ...         ...\n",
            "435737  27.500  62.500  121.000000  189.004349\n",
            "435738  25.000  57.500  130.333333  189.004349\n",
            "435739   0.000   0.000    0.000000    0.000000\n",
            "435740   0.000   0.000    0.000000    0.000000\n",
            "435741   0.000   0.000    0.000000    0.000000\n",
            "\n",
            "[435742 rows x 4 columns]\n"
          ],
          "name": "stdout"
        }
      ]
    },
    {
      "cell_type": "markdown",
      "metadata": {
        "colab_type": "text",
        "id": "BcZn1A5-qI92"
      },
      "source": [
        "### 2.2.2 Normalizing the Dataset\n",
        "Normalization refers to shifting the distribution of each attribute to have a mean of zero and a standard deviation of one (unit variance). It is useful to standardize attributes for a model. Standardization of datasets is a common requirement for many machine learning estimators implemented in scikit-learn; they might behave badly if the individual features do not more or less look like standard normally distributed data\n"
      ]
    },
    {
      "cell_type": "code",
      "metadata": {
        "colab_type": "code",
        "id": "JH3RiZ0IiYj8",
        "outputId": "113ebab7-cbdf-449e-94ea-db6ee9ad8eae",
        "colab": {
          "base_uri": "https://localhost:8080/",
          "height": 68
        }
      },
      "source": [
        "## Some preprocessing of the data\n",
        "Xbar, mu, std = normalize(X)          # Normalizing input matrix X\n",
        "print('The dimension of normalized input matrix X is: ', Xbar.shape)    # print shape of normalized X (Xbar)\n",
        "print('The dimension of mean of input matrix X is: ', mu.shape)          # print shape of mean of X\n",
        "print('The dimension of standard deviation of input matrix X is: ', X.shape)  # print shape of standard deviation of X"
      ],
      "execution_count": 85,
      "outputs": [
        {
          "output_type": "stream",
          "text": [
            "The dimension of normalized input matrix X is:  (435742, 4)\n",
            "The dimension of mean of input matrix X is:  (4,)\n",
            "The dimension of standard deviation of input matrix X is:  (435742, 4)\n"
          ],
          "name": "stdout"
        }
      ]
    },
    {
      "cell_type": "markdown",
      "metadata": {
        "colab_type": "text",
        "id": "kEnWlYN2C63R"
      },
      "source": [
        "### 2.2.3 Finding the Covariance Matrix"
      ]
    },
    {
      "cell_type": "code",
      "metadata": {
        "colab_type": "code",
        "id": "yYwTSnPnioAu",
        "outputId": "cf1c6925-6bd1-4bbe-f7cc-1f3a9475cc4f",
        "colab": {
          "base_uri": "https://localhost:8080/",
          "height": 68
        }
      },
      "source": [
        "# Finding Covariance matrix\n",
        "covariance = np.dot(Xbar.T,Xbar)\n",
        "print('Shape of covariance matrix : ', covariance.shape)        # print shape of covariance matrix \n",
        "print('Trace of covariance matrix : ', np.trace(covariance))    # print trace of convariance matrix\n",
        "\n",
        "print()\n",
        "S = covariance\n",
        "eigvals, eigvecs = eig(S)      # find eigen values and eigen vectors in sorted order (decreasing) of covariance matrix\n",
        "     "
      ],
      "execution_count": 86,
      "outputs": [
        {
          "output_type": "stream",
          "text": [
            "Shape of covariance matrix :  (4, 4)\n",
            "Trace of covariance matrix :  1742968.0000001471\n",
            "\n"
          ],
          "name": "stdout"
        }
      ]
    },
    {
      "cell_type": "markdown",
      "metadata": {
        "colab_type": "text",
        "id": "PmGpJFbc7trc"
      },
      "source": [
        "### 2.2.4 Variance of each principal components/features\n",
        "**Explained Variance** \n",
        "After sorting the eigenpairs, the next question is \"how many principal components are we going to choose for our new feature subspace?\" A useful measure is the so-called \"explained variance,\" which can be calculated from the eigenvalues. The explained variance tells us how much information (variance) can be attributed to each of the principal components."
      ]
    },
    {
      "cell_type": "code",
      "metadata": {
        "colab_type": "code",
        "id": "-QB6EgR7u1Ft",
        "outputId": "987bc23b-5f24-4ac1-e6d9-b7c3ecf2f5d7",
        "colab": {
          "base_uri": "https://localhost:8080/",
          "height": 297
        }
      },
      "source": [
        "tot = sum(eigvals) # sum of all eigenvalues\n",
        "var_exp = [(i / tot)*100 for i in eigvals] # computing explained variance- variance contributed to each of the principal components (in %)\n",
        "\n",
        "plt.figure(figsize=(6, 4)) # mentioning size of the bar graph\n",
        "\n",
        "#plotiing bar graph\n",
        "plt.bar(range(4), var_exp, alpha=0.5, align='center', label='individual explained variance')\n",
        "plt.ylabel('Explained variance ratio')\n",
        "plt.xlabel('Principal components')\n",
        "plt.legend(loc='best')\n",
        "plt.tight_layout()"
      ],
      "execution_count": 87,
      "outputs": [
        {
          "output_type": "display_data",
          "data": {
            "image/png": "[encoded data removed]",
            "text/plain": [
              "<Figure size 432x288 with 1 Axes>"
            ]
          },
          "metadata": {
            "tags": []
          }
        }
      ]
    },
    {
      "cell_type": "markdown",
      "metadata": {
        "colab_type": "text",
        "id": "5o-rwFT89q-d"
      },
      "source": [
        "The above plot above clearly shows that maximum variance (somewhere around 50%) can be explained by the first principal component alone. The second principal component shows variance of about 25%, and Comparatively third and fourth components share less amount of information as compared to the rest of the Principal components. Hence, for analysis we take M = 2 (number of principal components to be considered for low dimenional data) as they have much more variance than the last two principal components.\n",
        "\n"
      ]
    },
    {
      "cell_type": "code",
      "metadata": {
        "colab_type": "code",
        "id": "x7G4uvwa9eBD",
        "outputId": "40036ede-74bd-4439-eaf3-0e5be2371d56",
        "colab": {
          "base_uri": "https://localhost:8080/",
          "height": 272
        }
      },
      "source": [
        "num_components = 2                          # taking random value of M for analysis\n",
        "print('Eigen values sorted in decreasing order:')  # printing eigenvalues in decreasing order\n",
        "for i in eigvals: \n",
        "    print(i)\n",
        "print()\n",
        "print('Top M (where M=2) Eigenvalues : ', eigvals[:num_components])             # printing top M eigenvalues\n",
        "print()\n",
        "print('M eigenvectors correspondong to top M eigenvalues: \\n', eigvecs[:,:num_components])  # printing top M eigenvectors corresponding to top M eigenvalues\n",
        "\n",
        "print()\n",
        "print('Shape of one eigenvector : ', eigvecs.shape[0])    # printing eigenvector shape"
      ],
      "execution_count": 88,
      "outputs": [
        {
          "output_type": "stream",
          "text": [
            "Eigen values sorted in decreasing order:\n",
            "894576.6285090947\n",
            "428403.7878513784\n",
            "252699.9521340202\n",
            "167287.6315056542\n",
            "\n",
            "Top M (where M=2) Eigenvalues :  [894576.62850909 428403.78785138]\n",
            "\n",
            "M eigenvectors correspondong to top M eigenvalues: \n",
            " [[ 0.37771276  0.72301441]\n",
            " [ 0.49901073  0.36349529]\n",
            " [ 0.56268523 -0.36866975]\n",
            " [ 0.54009878 -0.45738818]]\n",
            "\n",
            "Shape of one eigenvector :  4\n"
          ],
          "name": "stdout"
        }
      ]
    },
    {
      "cell_type": "markdown",
      "metadata": {
        "id": "xMu02qx9Blpj",
        "colab_type": "text"
      },
      "source": [
        "### 2.2.5 Plotting sorted eigenvalues in decreasing order"
      ]
    },
    {
      "cell_type": "code",
      "metadata": {
        "colab_type": "code",
        "id": "1akSoLFF-UmZ",
        "outputId": "8dd21c61-a6e0-4e6c-ea9e-c51170ab4466",
        "colab": {
          "base_uri": "https://localhost:8080/",
          "height": 381
        }
      },
      "source": [
        "# Plotting sorted eigen values (in decreasing order) v/s its index \n",
        "eigvals = np.asarray(eigvals)      # converting to array\n",
        "eig_df = pd.DataFrame(eigvals)     # making a dataframe with index and eigenvalues\n",
        "eig_df.rename(columns={0 : 'eigenvalues'},  inplace = True)  #renaming the column of dataframe to eigenvalues\n",
        "print(eig_df.head())        # printing all the eigenvalues ( 1 to D (total number of features i.e. 4))\n",
        "\n",
        "fig, ax = plt.subplots()\n",
        "ax.plot(eigvals);\n",
        "ax.set(xlabel='index', ylabel='Eigen values', title='Eigen Values vs index (decreasing order)');"
      ],
      "execution_count": 89,
      "outputs": [
        {
          "output_type": "stream",
          "text": [
            "     eigenvalues\n",
            "0  894576.628509\n",
            "1  428403.787851\n",
            "2  252699.952134\n",
            "3  167287.631506\n"
          ],
          "name": "stdout"
        },
        {
          "output_type": "display_data",
          "data": {
            "image/png": "[encoded data removed]",
            "text/plain": [
              "<Figure size 432x288 with 1 Axes>"
            ]
          },
          "metadata": {
            "tags": []
          }
        }
      ]
    },
    {
      "cell_type": "markdown",
      "metadata": {
        "colab_type": "text",
        "id": "y86-P1RRC0zp"
      },
      "source": [
        "### 2.2.6 Calculating Projection Matrix and calling PCA function"
      ]
    },
    {
      "cell_type": "code",
      "metadata": {
        "colab_type": "code",
        "id": "fjtcL2pmse6D",
        "outputId": "91f7e2ab-c1f4-4120-e83c-12890c7d9024",
        "colab": {
          "base_uri": "https://localhost:8080/",
          "height": 408
        }
      },
      "source": [
        "## Calculation of Projection matrix and Reconstructed X matrix\n",
        "B = np.stack(eigvecs[:,:num_components])   \n",
        "print('Shape of matrix B (top M eigenvectors (M=2 in this case)) : ', B.shape)\n",
        "print('Trace of matrix B : ', np.trace(B))  \n",
        "\n",
        "print()\n",
        "P = projection_matrix(B)  # finding projection matrix P\n",
        "print('Shape of Projection matrix : ', P.shape)\n",
        "\n",
        "print()\n",
        "X_reconstruct, sum_value = PCA(Xbar, num_components)            # finding reconstructed X by selecting num_components principal components\n",
        "print('Shape of X_reconstruct matrix : ', X_reconstruct.shape)  # printing shape of X_reconstruct matrix\n",
        "print('Shape of normalized X matrix : ', Xbar.shape)            # printing shape of normalized X matrix\n",
        "\n",
        "print()\n",
        "print('X reconstruced : \\n', X_reconstruct)                     # printing projected data matrix (reconstructed X)"
      ],
      "execution_count": 90,
      "outputs": [
        {
          "output_type": "stream",
          "text": [
            "Shape of matrix B (top M eigenvectors (M=2 in this case)) :  (4, 2)\n",
            "Trace of matrix B :  0.7412080533513133\n",
            "\n",
            "Shape of Projection matrix :  (4, 4)\n",
            "\n",
            "Shape of X_reconstruct matrix :  (435742, 4)\n",
            "Shape of normalized X matrix :  (435742, 4)\n",
            "\n",
            "X reconstruced : \n",
            "               si        ni       rpi       spi\n",
            "0      -0.580874 -0.465445 -0.127513 -0.069566\n",
            "1      -0.964828 -0.770251 -0.204838 -0.108370\n",
            "2      -0.199599 -0.159465 -0.042668 -0.022720\n",
            "3      -0.546948 -0.453963 -0.158435 -0.105079\n",
            "4      -0.841879 -0.684731 -0.209604 -0.126399\n",
            "...          ...       ...       ...       ...\n",
            "435737  1.374532  1.163031  0.452352  0.319969\n",
            "435738  1.120329  1.020688  0.546439  0.444131\n",
            "435739 -0.982780 -1.648900 -2.320495 -2.288670\n",
            "435740 -0.982780 -1.648900 -2.320495 -2.288670\n",
            "435741 -0.982780 -1.648900 -2.320495 -2.288670\n",
            "\n",
            "[435742 rows x 4 columns]\n"
          ],
          "name": "stdout"
        }
      ]
    },
    {
      "cell_type": "code",
      "metadata": {
        "colab_type": "code",
        "id": "kyXKNtVLsgr5",
        "outputId": "56aafa89-696f-4736-c1e5-717bc7b62d84",
        "colab": {
          "base_uri": "https://localhost:8080/",
          "height": 51
        }
      },
      "source": [
        "## Calculation of unnormalized X reconstructed matrix\n",
        "mu = np.mean(X, axis=0)   # finding mean of input matrix X\n",
        "std = np.std(X, axis=0)   # finding standard deviation of input matrix X\n",
        "X_final = X_reconstruct * std + mu   # unnomalizing X reconstruct to X_final \n",
        "print('Shape of unnormalized reconstructed matrix : ', X_reconstruct.shape)  # printing shape of unnormalized reconstructed matrix\n",
        "print('Shape of input matrix X : ', Xbar.shape)      # printing shape of input matrix X matrix"
      ],
      "execution_count": 91,
      "outputs": [
        {
          "output_type": "stream",
          "text": [
            "Shape of unnormalized reconstructed matrix :  (435742, 4)\n",
            "Shape of input matrix X :  (435742, 4)\n"
          ],
          "name": "stdout"
        }
      ]
    },
    {
      "cell_type": "markdown",
      "metadata": {
        "colab_type": "text",
        "id": "k9DT3TwgDPOM"
      },
      "source": [
        "### 2.2.7 Comparison of our PCA function with sklearn library"
      ]
    },
    {
      "cell_type": "code",
      "metadata": {
        "colab_type": "code",
        "id": "G0esFQ_AsUor",
        "outputId": "a7ab6759-bd27-4e79-a57b-a3110a563218",
        "colab": {
          "base_uri": "https://localhost:8080/",
          "height": 238
        }
      },
      "source": [
        "# Comparison user functions with inbuilt Library\n",
        "from sklearn.preprocessing import StandardScaler\n",
        "\n",
        "standardized_data = StandardScaler(with_mean=True, with_std=True)\n",
        "sample_data = standardized_data.fit_transform(Xbar)    # normalizing the dataset using library\n",
        "\n",
        "print('Shape of Normalized input matrix computed using library : ' , sample_data.shape)\n",
        "print('Shape of Normalized input matrix computed using user functions : ' , Xbar.shape)\n",
        "\n",
        "# Find the co-variance matrix which is : A^T * A\n",
        "\n",
        "# matrix multiplication using numpy\n",
        "covar_matrix = np.matmul(sample_data.T, sample_data)  # finding covariance matrix using normalized X (using inbuilt library)\n",
        "print()\n",
        "print(\"Shape of covariance matrix computed using Library = \", covar_matrix.shape)\n",
        "print(\"Shape of covariance matrix computed by user functions = \", S.shape)\n",
        "\n",
        "print()\n",
        "print('The covariance matrix is : \\n' ,covar_matrix)\n",
        "print()\n",
        "print('The trace of covariance matrix : ', np.trace(covar_matrix))"
      ],
      "execution_count": 92,
      "outputs": [
        {
          "output_type": "stream",
          "text": [
            "Shape of Normalized input matrix computed using library :  (435742, 4)\n",
            "Shape of Normalized input matrix computed using user functions :  (435742, 4)\n",
            "\n",
            "Shape of covariance matrix computed using Library =  (4, 4)\n",
            "Shape of covariance matrix computed by user functions =  (4, 4)\n",
            "\n",
            "The covariance matrix is : \n",
            " [[435742.         167103.51206591  93686.88467662  68885.58764466]\n",
            " [167103.51206591 435742.         157288.71880688 143200.16261006]\n",
            " [ 93686.88467662 157288.71880688 435742.         267180.71513081]\n",
            " [ 68885.58764466 143200.16261006 267180.71513081 435742.        ]]\n",
            "\n",
            "The trace of covariance matrix :  1742968.0000000023\n"
          ],
          "name": "stdout"
        }
      ]
    },
    {
      "cell_type": "markdown",
      "metadata": {
        "colab_type": "text",
        "id": "FuAXyQ2iDcRy"
      },
      "source": [
        "### 2.2.8 Comparison of Actual AQI and Reconstructed AQI formed from projected data matrix X_tilda"
      ]
    },
    {
      "cell_type": "code",
      "metadata": {
        "colab_type": "code",
        "id": "K24c0M1RwwHz",
        "outputId": "67f7534c-720b-477d-f623-ebc72461fd21",
        "colab": {
          "base_uri": "https://localhost:8080/",
          "height": 558
        }
      },
      "source": [
        "# Computing Reconstructed AQI from unnormalized reconstructed X matrix\n",
        "dataset['AQI_reconstructed'] = X_final.apply(lambda x:calculate_aqi(x['si'],x['ni'],x['spi'],x['rpi']),axis=1)\n",
        "\n",
        "# Making Reconstruced Columns for all the pollutants\n",
        "dataset['ni_reconstructed'] =  X_final['ni'] # Making Reconstruced Columns for no2 \n",
        "dataset['si_reconstructed'] =  X_final['si'] # Making Reconstruced Columns for so2\n",
        "dataset['rpi_reconstructed'] =  X_final['rpi'] # Making Reconstruced Columns for rspm\n",
        "dataset['spi_reconstructed'] =  X_final['spi'] # Making Reconstruced Columns for spm\n",
        "\n",
        "# Defining a dataframe consisting of Actual AQI and pollutant values and Reconstructed AQI and pollutant values\n",
        "df = dataset[['state','si','ni','spi','rpi','si_reconstructed','ni_reconstructed','rpi_reconstructed','spi_reconstructed','AQI','AQI_reconstructed']]\n",
        "df"
      ],
      "execution_count": 93,
      "outputs": [
        {
          "output_type": "execute_result",
          "data": {
            "text/html": [
              "<div>\n",
              "<style scoped>\n",
              "    .dataframe tbody tr th:only-of-type {\n",
              "        vertical-align: middle;\n",
              "    }\n",
              "\n",
              "    .dataframe tbody tr th {\n",
              "        vertical-align: top;\n",
              "    }\n",
              "\n",
              "    .dataframe thead th {\n",
              "        text-align: right;\n",
              "    }\n",
              "</style>\n",
              "<table border=\"1\" class=\"dataframe\">\n",
              "  <thead>\n",
              "    <tr style=\"text-align: right;\">\n",
              "      <th></th>\n",
              "      <th>state</th>\n",
              "      <th>si</th>\n",
              "      <th>ni</th>\n",
              "      <th>spi</th>\n",
              "      <th>rpi</th>\n",
              "      <th>si_reconstructed</th>\n",
              "      <th>ni_reconstructed</th>\n",
              "      <th>rpi_reconstructed</th>\n",
              "      <th>spi_reconstructed</th>\n",
              "      <th>AQI</th>\n",
              "      <th>AQI_reconstructed</th>\n",
              "    </tr>\n",
              "  </thead>\n",
              "  <tbody>\n",
              "    <tr>\n",
              "      <th>0</th>\n",
              "      <td>Andhra Pradesh</td>\n",
              "      <td>6.000</td>\n",
              "      <td>21.750</td>\n",
              "      <td>166.840252</td>\n",
              "      <td>97.728530</td>\n",
              "      <td>6.117200</td>\n",
              "      <td>21.731572</td>\n",
              "      <td>94.545145</td>\n",
              "      <td>174.691802</td>\n",
              "      <td>166.840252</td>\n",
              "      <td>174.691802</td>\n",
              "    </tr>\n",
              "    <tr>\n",
              "      <th>1</th>\n",
              "      <td>Andhra Pradesh</td>\n",
              "      <td>3.875</td>\n",
              "      <td>8.750</td>\n",
              "      <td>166.840252</td>\n",
              "      <td>97.728530</td>\n",
              "      <td>1.476775</td>\n",
              "      <td>15.032918</td>\n",
              "      <td>91.737112</td>\n",
              "      <td>171.120923</td>\n",
              "      <td>166.840252</td>\n",
              "      <td>171.120923</td>\n",
              "    </tr>\n",
              "    <tr>\n",
              "      <th>2</th>\n",
              "      <td>Andhra Pradesh</td>\n",
              "      <td>7.750</td>\n",
              "      <td>35.625</td>\n",
              "      <td>166.840252</td>\n",
              "      <td>97.728530</td>\n",
              "      <td>10.725256</td>\n",
              "      <td>28.455989</td>\n",
              "      <td>97.626264</td>\n",
              "      <td>179.002764</td>\n",
              "      <td>166.840252</td>\n",
              "      <td>179.002764</td>\n",
              "    </tr>\n",
              "    <tr>\n",
              "      <th>3</th>\n",
              "      <td>Andhra Pradesh</td>\n",
              "      <td>7.875</td>\n",
              "      <td>18.375</td>\n",
              "      <td>166.840252</td>\n",
              "      <td>97.728530</td>\n",
              "      <td>6.527229</td>\n",
              "      <td>21.983893</td>\n",
              "      <td>93.422250</td>\n",
              "      <td>171.423756</td>\n",
              "      <td>166.840252</td>\n",
              "      <td>171.423756</td>\n",
              "    </tr>\n",
              "    <tr>\n",
              "      <th>4</th>\n",
              "      <td>Andhra Pradesh</td>\n",
              "      <td>5.875</td>\n",
              "      <td>9.375</td>\n",
              "      <td>166.840252</td>\n",
              "      <td>97.728530</td>\n",
              "      <td>2.962724</td>\n",
              "      <td>16.912380</td>\n",
              "      <td>91.564067</td>\n",
              "      <td>169.461780</td>\n",
              "      <td>166.840252</td>\n",
              "      <td>169.461780</td>\n",
              "    </tr>\n",
              "    <tr>\n",
              "      <th>...</th>\n",
              "      <td>...</td>\n",
              "      <td>...</td>\n",
              "      <td>...</td>\n",
              "      <td>...</td>\n",
              "      <td>...</td>\n",
              "      <td>...</td>\n",
              "      <td>...</td>\n",
              "      <td>...</td>\n",
              "      <td>...</td>\n",
              "      <td>...</td>\n",
              "      <td>...</td>\n",
              "    </tr>\n",
              "    <tr>\n",
              "      <th>435737</th>\n",
              "      <td>West Bengal</td>\n",
              "      <td>27.500</td>\n",
              "      <td>62.500</td>\n",
              "      <td>189.004349</td>\n",
              "      <td>121.000000</td>\n",
              "      <td>29.750043</td>\n",
              "      <td>57.520118</td>\n",
              "      <td>115.602690</td>\n",
              "      <td>210.538486</td>\n",
              "      <td>189.004349</td>\n",
              "      <td>210.538486</td>\n",
              "    </tr>\n",
              "    <tr>\n",
              "      <th>435738</th>\n",
              "      <td>West Bengal</td>\n",
              "      <td>25.000</td>\n",
              "      <td>57.500</td>\n",
              "      <td>189.004349</td>\n",
              "      <td>130.333333</td>\n",
              "      <td>26.677773</td>\n",
              "      <td>54.391893</td>\n",
              "      <td>119.019435</td>\n",
              "      <td>221.964401</td>\n",
              "      <td>189.004349</td>\n",
              "      <td>221.964401</td>\n",
              "    </tr>\n",
              "    <tr>\n",
              "      <th>435739</th>\n",
              "      <td>andaman-and-nicobar-islands</td>\n",
              "      <td>0.000</td>\n",
              "      <td>0.000</td>\n",
              "      <td>0.000000</td>\n",
              "      <td>0.000000</td>\n",
              "      <td>1.259806</td>\n",
              "      <td>-4.276904</td>\n",
              "      <td>14.907951</td>\n",
              "      <td>-29.519763</td>\n",
              "      <td>0.000000</td>\n",
              "      <td>14.907951</td>\n",
              "    </tr>\n",
              "    <tr>\n",
              "      <th>435740</th>\n",
              "      <td>Lakshadweep</td>\n",
              "      <td>0.000</td>\n",
              "      <td>0.000</td>\n",
              "      <td>0.000000</td>\n",
              "      <td>0.000000</td>\n",
              "      <td>1.259806</td>\n",
              "      <td>-4.276904</td>\n",
              "      <td>14.907951</td>\n",
              "      <td>-29.519763</td>\n",
              "      <td>0.000000</td>\n",
              "      <td>14.907951</td>\n",
              "    </tr>\n",
              "    <tr>\n",
              "      <th>435741</th>\n",
              "      <td>Tripura</td>\n",
              "      <td>0.000</td>\n",
              "      <td>0.000</td>\n",
              "      <td>0.000000</td>\n",
              "      <td>0.000000</td>\n",
              "      <td>1.259806</td>\n",
              "      <td>-4.276904</td>\n",
              "      <td>14.907951</td>\n",
              "      <td>-29.519763</td>\n",
              "      <td>0.000000</td>\n",
              "      <td>14.907951</td>\n",
              "    </tr>\n",
              "  </tbody>\n",
              "</table>\n",
              "<p>435742 rows × 11 columns</p>\n",
              "</div>"
            ],
            "text/plain": [
              "                              state      si  ...         AQI  AQI_reconstructed\n",
              "0                    Andhra Pradesh   6.000  ...  166.840252         174.691802\n",
              "1                    Andhra Pradesh   3.875  ...  166.840252         171.120923\n",
              "2                    Andhra Pradesh   7.750  ...  166.840252         179.002764\n",
              "3                    Andhra Pradesh   7.875  ...  166.840252         171.423756\n",
              "4                    Andhra Pradesh   5.875  ...  166.840252         169.461780\n",
              "...                             ...     ...  ...         ...                ...\n",
              "435737                  West Bengal  27.500  ...  189.004349         210.538486\n",
              "435738                  West Bengal  25.000  ...  189.004349         221.964401\n",
              "435739  andaman-and-nicobar-islands   0.000  ...    0.000000          14.907951\n",
              "435740                  Lakshadweep   0.000  ...    0.000000          14.907951\n",
              "435741                      Tripura   0.000  ...    0.000000          14.907951\n",
              "\n",
              "[435742 rows x 11 columns]"
            ]
          },
          "metadata": {
            "tags": []
          },
          "execution_count": 93
        }
      ]
    },
    {
      "cell_type": "code",
      "metadata": {
        "colab_type": "code",
        "id": "r8MpjLrJVtS-",
        "outputId": "c287a088-5dcc-491d-9d29-f7c225b22186",
        "colab": {
          "base_uri": "https://localhost:8080/",
          "height": 568
        }
      },
      "source": [
        "reconstructed = df['AQI_reconstructed'] #fetching reconstructed data\n",
        "actual = df['AQI'] # fetching actual data\n",
        "aqi_reconstruct_error = np.sqrt(np.square(reconstructed - actual).sum()/len(actual)) # calculating error between projected data matrix and original feature matrux \n",
        "\n",
        "print('Index    Error (AQI recosntructed & Actual)\\n', (reconstructed - actual))\n",
        "print()\n",
        "print('Total Error in AQI recosntructed and Actural AQI if taken 2 major principal components: ' , aqi_reconstruct_error)\n",
        "print()\n",
        "fig, ax = plt.subplots() #plotting results\n",
        "ax.plot(actual, reconstructed, 'rx');\n",
        "#ax.xaxis.set_ticks(np.arange(1, 5, 5));\n",
        "ax.set(xlabel='actual AQI', ylabel='reconstructed AQI', title='Actual vs recosntructed AQI');"
      ],
      "execution_count": 94,
      "outputs": [
        {
          "output_type": "stream",
          "text": [
            "Index    Error (AQI recosntructed & Actual)\n",
            " 0          7.851550\n",
            "1          4.280671\n",
            "2         12.162512\n",
            "3          4.583504\n",
            "4          2.621528\n",
            "            ...    \n",
            "435737    21.534137\n",
            "435738    32.960052\n",
            "435739    14.907951\n",
            "435740    14.907951\n",
            "435741    14.907951\n",
            "Length: 435742, dtype: float64\n",
            "\n",
            "Total Error in AQI recosntructed and Actural AQI if taken 2 major principal components:  38.133229667173914\n",
            "\n"
          ],
          "name": "stdout"
        },
        {
          "output_type": "display_data",
          "data": {
            "image/png": "[encoded data removed]",
            "text/plain": [
              "<Figure size 432x288 with 1 Axes>"
            ]
          },
          "metadata": {
            "tags": []
          }
        }
      ]
    },
    {
      "cell_type": "code",
      "metadata": {
        "colab_type": "code",
        "id": "zER61VMqazCf",
        "outputId": "e3d998c8-a572-48c7-f627-9776c65a7e94",
        "colab": {
          "base_uri": "https://localhost:8080/",
          "height": 466
        }
      },
      "source": [
        "dataset['date'] = pd.to_datetime(dataset['date'],format='%Y-%m-%d') # transforming the date column into '%Y-%m-%d' formate \n",
        "dataset['year'] = dataset['date'].dt.year                           # extracting year from the date column\n",
        "dataset['year'] = dataset['year'].fillna(0.0).astype(int)           # filling nan values as 0\n",
        "dataset = dataset[(dataset['year']>0)]                              # extracting only non null values\n",
        "\n",
        "df = dataset[['AQI','year','state']].groupby([\"year\"]).median().reset_index().sort_values(by='year',ascending=False) #processing fetched data by grouping on year \n",
        "df1 = dataset[['AQI_reconstructed','year','state']].groupby([\"year\"]).median().reset_index().sort_values(by='year',ascending=False) # processing fetched data by grouping on year \n",
        "f,ax=plt.subplots(figsize=(13,8))\n",
        "sns.set()\n",
        "ax = sns.pointplot(x='year', y='AQI', data=df, label=\"Actual\", color='b', linestyle=\"-\", errwidth=0.1) #plotting calculated value\n",
        "ax = sns.pointplot(x='year', y='AQI_reconstructed', data=df1, color='g', label=\"predicted\", linestyle=\"-\", errwidth=0.1) # plotting predicted value\n",
        "\n",
        "# plotting graph\n",
        "ax.legend(handles=ax.lines[::len(df)+1], labels=[\"AQI\",\"AQI_reconstructed\"])\n",
        "ax.set_xticklabels([t.get_text().split(\"T\")[0] for t in ax.get_xticklabels()])\n",
        "plt.gcf().autofmt_xdate()\n",
        "plt.show()"
      ],
      "execution_count": 95,
      "outputs": [
        {
          "output_type": "display_data",
          "data": {
            "image/png": "[encoded data removed]",
            "text/plain": [
              "<Figure size 936x576 with 1 Axes>"
            ]
          },
          "metadata": {
            "tags": []
          }
        }
      ]
    },
    {
      "cell_type": "markdown",
      "metadata": {
        "colab_type": "text",
        "id": "5x9H0YIKqYMY"
      },
      "source": [
        "### 2.2.9 Analysis after taking each value of the number of principal component"
      ]
    },
    {
      "cell_type": "code",
      "metadata": {
        "colab_type": "code",
        "id": "7SBrKfVYNSiA",
        "outputId": "af3a99e1-6c33-48ae-bda0-cc41098eaf55",
        "colab": {
          "base_uri": "https://localhost:8080/",
          "height": 425
        }
      },
      "source": [
        "for num_component in range(1, 4):\n",
        "  from sklearn.decomposition import PCA as SKPCA\n",
        "  \n",
        "  # Standard solution given by scikit-learn's implementation of PCA\n",
        "  pca = SKPCA(n_components=num_component, svd_solver='full')\n",
        "  sklearn_reconst = pca.inverse_transform(pca.fit_transform(Xbar))\n",
        "\n",
        "  # Our method\n",
        "  reconst, sum_value = PCA(Xbar, num_component) #analysis after taking significant components\n",
        "  np.testing.assert_almost_equal(reconst, sklearn_reconst) # assserting the equality between the projected data matrix computed by own method and the inbuilt library\n",
        "  print('Error between reconstructions with sklearn library and our method for each feature : \\n', np.square(reconst - sklearn_reconst).sum())\n",
        "  print('Shape of reconstructed matrix : ', reconst.shape)\n",
        "  print()"
      ],
      "execution_count": 96,
      "outputs": [
        {
          "output_type": "stream",
          "text": [
            "Error between reconstructions with sklearn library and our method for each feature : \n",
            " si     5.870280e-19\n",
            "ni     5.376384e-19\n",
            "rpi    2.739782e-19\n",
            "spi    1.495493e-18\n",
            "dtype: float64\n",
            "Shape of reconstructed matrix :  (435742, 4)\n",
            "\n",
            "Error between reconstructions with sklearn library and our method for each feature : \n",
            " si     1.705401e-19\n",
            "ni     1.412290e-19\n",
            "rpi    4.797569e-19\n",
            "spi    6.479692e-19\n",
            "dtype: float64\n",
            "Shape of reconstructed matrix :  (435742, 4)\n",
            "\n",
            "Error between reconstructions with sklearn library and our method for each feature : \n",
            " si     7.065350e-21\n",
            "ni     1.756222e-20\n",
            "rpi    5.867141e-19\n",
            "spi    5.586575e-19\n",
            "dtype: float64\n",
            "Shape of reconstructed matrix :  (435742, 4)\n",
            "\n"
          ],
          "name": "stdout"
        }
      ]
    },
    {
      "cell_type": "markdown",
      "metadata": {
        "colab_type": "text",
        "id": "uB4sxFr6D5YU"
      },
      "source": [
        "### 2.2.10 Computing loss and variance for every value of M (number of principal components)"
      ]
    },
    {
      "cell_type": "code",
      "metadata": {
        "colab_type": "code",
        "id": "sJ9hv9i-wBcU",
        "colab": {}
      },
      "source": [
        "def mse(predict, actual):\n",
        "  \"\"\"Helper function for computing the mean squared error (MSE)\"\"\"\n",
        "  return np.square(predict - actual).sum(axis=1).mean()     # returning mse error"
      ],
      "execution_count": 0,
      "outputs": []
    },
    {
      "cell_type": "code",
      "metadata": {
        "colab_type": "code",
        "id": "h-ONa-i-x6TS",
        "outputId": "f3b56e37-7492-4c2b-9fe6-d1ec9d6a4850",
        "colab": {
          "base_uri": "https://localhost:8080/",
          "height": 102
        }
      },
      "source": [
        "# defining loss, reconstructions, variance_values vector\n",
        "loss = []\n",
        "reconstructions = []\n",
        "variance_values = []\n",
        "\n",
        "X = dataset[['rpi','spi','si','ni']]   # independent variables matrix - pollutant concentrations\n",
        "Xbar, mu, std = normalize(X)\n",
        "\n",
        "print('Taking different values of number of components from M=1 to 4 (total number of features available): ')\n",
        "# iterate over different numbers of principal components, and compute the MSE\n",
        "for num_component in range(1, 5):\n",
        "  reconst, sum_value = PCA(Xbar, num_component) #reconst contains reconstructed Xbar, sum value contains summation of significant of num_component\n",
        "  error = mse(reconst, Xbar)  # computing mse error between projected data matrix and original normalized matrix \n",
        "  reconst = reconst*std + mu # un-normalizing the data\n",
        "  reconstructions.append(reconst) # appending un-normalized data\n",
        "  print('M = {:d}, reconstruction_error = {:f}'.format(num_component, error))\n",
        "  loss.append((num_component, error)) #appending loss terms\n",
        "  variance_values.append((num_component, sum_value)) # appending variance"
      ],
      "execution_count": 98,
      "outputs": [
        {
          "output_type": "stream",
          "text": [
            "Taking different values of number of components from M=1 to 4 (total number of features available): \n",
            "M = 1, reconstruction_error = 1.947004\n",
            "M = 2, reconstruction_error = 0.963845\n",
            "M = 3, reconstruction_error = 0.383914\n",
            "M = 4, reconstruction_error = 0.000000\n"
          ],
          "name": "stdout"
        }
      ]
    },
    {
      "cell_type": "code",
      "metadata": {
        "colab_type": "code",
        "id": "2IN3RSoAzoKd",
        "outputId": "c7a27287-ddce-4b36-dd11-0e87d3fd3bd2",
        "colab": {
          "base_uri": "https://localhost:8080/",
          "height": 386
        }
      },
      "source": [
        "variance_values = np.asarray(variance_values) # converting variance into variance array\n",
        "var_df = pd.DataFrame(variance_values) #converting variance into a data frame \n",
        "var_df.rename(columns={0 : 'num_components', 1: 'Variance'},  inplace = True)  # renaming the columns of dataframe \n",
        "print(var_df.head())  # printing the varaince values corresponding to all the principal components\n",
        "\n",
        "# plotting variance plot wrt the number of principal components\n",
        "sns.set()\n",
        "fig, ax = plt.subplots()\n",
        "ax.plot(variance_values[:,0], variance_values[:,1]); \n",
        "ax.set(xlabel='num_components', ylabel='Variance', title='Variance on Number of Principal Components');\n",
        "\n",
        "for l in ax.lines:\n",
        "    plt.setp(l,linewidth=4)"
      ],
      "execution_count": 99,
      "outputs": [
        {
          "output_type": "stream",
          "text": [
            "   num_components      Variance\n",
            "0             1.0  8.945766e+05\n",
            "1             2.0  1.322980e+06\n",
            "2             3.0  1.575680e+06\n",
            "3             4.0  1.742968e+06\n"
          ],
          "name": "stdout"
        },
        {
          "output_type": "display_data",
          "data": {
            "image/png": "[encoded data removed]",
            "text/plain": [
              "<Figure size 432x288 with 1 Axes>"
            ]
          },
          "metadata": {
            "tags": []
          }
        }
      ]
    },
    {
      "cell_type": "code",
      "metadata": {
        "colab_type": "code",
        "id": "dpDNll6Vrfku",
        "outputId": "008e7b28-a69b-4970-c927-0b0a4f8436b6",
        "colab": {
          "base_uri": "https://localhost:8080/",
          "height": 386
        }
      },
      "source": [
        "loss = np.asarray(loss) #converting loss value in array\n",
        "loss_df = pd.DataFrame(loss) #converting loss into a data frame\n",
        "loss_df.rename(columns={0 : 'num_components', 1: 'MSE'},  inplace = True)  #renaming the column of dataframe to MSE\n",
        "print(loss_df) # printing the loss values corresponding to all the principal components\n",
        "\n",
        "# plotting variance plot wrt the number of principal components\n",
        "fig, ax = plt.subplots()\n",
        "ax.plot(loss[:,0], loss[:,1]);\n",
        "ax.set(xlabel='num_components', ylabel='MSE', title='MSE vs number of principal components');\n",
        "\n",
        "for l in ax.lines:\n",
        "    plt.setp(l,linewidth=4)"
      ],
      "execution_count": 100,
      "outputs": [
        {
          "output_type": "stream",
          "text": [
            "   num_components           MSE\n",
            "0             1.0  1.947004e+00\n",
            "1             2.0  9.638446e-01\n",
            "2             3.0  3.839144e-01\n",
            "3             4.0  8.792642e-31\n"
          ],
          "name": "stdout"
        },
        {
          "output_type": "display_data",
          "data": {
            "image/png": "[encoded data removed]",
            "text/plain": [
              "<Figure size 432x288 with 1 Axes>"
            ]
          },
          "metadata": {
            "tags": []
          }
        }
      ]
    },
    {
      "cell_type": "markdown",
      "metadata": {
        "colab_type": "text",
        "id": "0BryhOvuaO4u"
      },
      "source": [
        "### 2.2.10 Analysis of MSE error with respect to number of principal components with non sorted eigenvalues"
      ]
    },
    {
      "cell_type": "code",
      "metadata": {
        "colab_type": "code",
        "id": "Fi-J01a_acQk",
        "colab": {}
      },
      "source": [
        "def PCA_unsorted(X, num_components):\n",
        "  \"\"\"\n",
        "  Args:\n",
        "  X: ndarray of size (N, D), where D is the dimension of the data,\n",
        "  and N is the number of datapoints\n",
        "  num_components: the number of principal components to use.\n",
        "  Returns:\n",
        "  X_reconstruct: ndarray of the reconstruction\n",
        "  of X from the first `num_components` principal components.\n",
        "  \"\"\"\n",
        "  # your solution should take advantage of the functions you have implemented above.\n",
        "  # this function is not calculating most significant eigenvalues because we want to use this for comparision with the earlier one\n",
        "  Xbar, mu, std = normalize(X) #normalized data\n",
        "  covariance = np.dot(Xbar.T,Xbar) # covariance = xbar*xbartrnaspose\n",
        "  S = covariance # s is covariance\n",
        "  eigvals, eigvecs = np.linalg.eig(S) # calculating eigen values and eigen vectors (unordered)\n",
        "  sum_value = sum(eigvals[:num_components])#sum of M eigen values, we have NOT TAKEN SORTED LIST\n",
        "  B = np.stack(eigvecs[:,:num_components]) # calculating matrix B by taking summation of num_components\n",
        "  P = np.matmul(B,B.T) #P = B * Btranspose (projection matrix)\n",
        "  X_reconstruct = np.matmul(P,X.T) #reconstructing matrix X (project data matrix)\n",
        "  X_reconstruct = X_reconstruct.T\n",
        "  return X_reconstruct, sum_value, eigvals \n"
      ],
      "execution_count": 0,
      "outputs": []
    },
    {
      "cell_type": "code",
      "metadata": {
        "colab_type": "code",
        "id": "8l7P1tvOwnKB",
        "outputId": "310d5891-e598-4e0a-d89a-e58b95eecfb1",
        "colab": {
          "base_uri": "https://localhost:8080/",
          "height": 204
        }
      },
      "source": [
        "# defining loss, reconstructions, variance_values vector\n",
        "# defining loss FOR UNSORTED DATA\n",
        "loss_unsorted = []\n",
        "reconstructions_unsorted = []\n",
        "variance_values_unsorted = []\n",
        "\n",
        "X1 = dataset[['rpi','spi','si','ni']]   # independent variables matrix - pollutant concentrations\n",
        "Xbar1, mu1, std1 = normalize(X1)\n",
        "print('Taking different values of number of components from M=1 to 4 (total number of features available): ')\n",
        "# iterate over different numbers of principal components, and compute the MSE\n",
        "for num_component in range(1, 5):\n",
        "  reconst, sum_value, eigvals = PCA_unsorted(Xbar1, num_component)  #reconst contains reconstructed Xbar, sum value contains summation of significant of num_component\n",
        "  error = mse(reconst, Xbar1)\n",
        "  reconst = reconst*std1 + mu1 #reconst is un-normalized data\n",
        "  reconstructions_unsorted.append(reconst) # appending un-normalized data\n",
        "  print('M = {:d}, reconstruction_error = {:f}'.format(num_component, error))\n",
        "  loss_unsorted.append((num_component, error)) # loss for unsorted un normalized data\n",
        "  variance_values_unsorted.append((num_component, sum_value)) # variance for unsorted un normalized data\n",
        "\n",
        "print('\\nEigvalues in descending order: ')\n",
        "for i in eigvals:\n",
        "    print(i)"
      ],
      "execution_count": 104,
      "outputs": [
        {
          "output_type": "stream",
          "text": [
            "Taking different values of number of components from M=1 to 4 (total number of features available): \n",
            "M = 1, reconstruction_error = 1.947004\n",
            "M = 2, reconstruction_error = 0.963845\n",
            "M = 3, reconstruction_error = 0.579930\n",
            "M = 4, reconstruction_error = 0.000000\n",
            "\n",
            "Eigvalues in descending order: \n",
            "894576.6285083746\n",
            "428403.78785121365\n",
            "167287.63150541615\n",
            "252699.95213404184\n"
          ],
          "name": "stdout"
        }
      ]
    },
    {
      "cell_type": "code",
      "metadata": {
        "colab_type": "code",
        "id": "oaPioZnpazL4",
        "outputId": "f8e05316-3a90-418f-e5a7-80571f2de41c",
        "colab": {
          "base_uri": "https://localhost:8080/",
          "height": 386
        }
      },
      "source": [
        "loss_unsorted = np.asarray(loss_unsorted) # converting loss to array\n",
        "loss_df = pd.DataFrame(loss_unsorted) # as a dataframe\n",
        "loss_df.rename(columns={0 : 'num_components', 1: 'MSE'},  inplace = True)  #renaming the column of dataframe\n",
        "print(loss_df)\n",
        "\n",
        "# plotting MSE vs number of principal components\n",
        "fig, ax = plt.subplots()\n",
        "ax.plot(loss_unsorted[:,0], loss_unsorted[:,1]);\n",
        "ax.set(xlabel='num_components', ylabel='MSE', title='MSE vs number of principal components');\n",
        "\n",
        "for l in ax.lines:\n",
        "    plt.setp(l,linewidth=4)"
      ],
      "execution_count": 105,
      "outputs": [
        {
          "output_type": "stream",
          "text": [
            "   num_components           MSE\n",
            "0             1.0  1.947004e+00\n",
            "1             2.0  9.638446e-01\n",
            "2             3.0  5.799302e-01\n",
            "3             4.0  8.810203e-31\n"
          ],
          "name": "stdout"
        },
        {
          "output_type": "display_data",
          "data": {
            "image/png": "[encoded data removed]",
            "text/plain": [
              "<Figure size 432x288 with 1 Axes>"
            ]
          },
          "metadata": {
            "tags": []
          }
        }
      ]
    },
    {
      "cell_type": "code",
      "metadata": {
        "colab_type": "code",
        "id": "Y8GoS3KIbT4U",
        "colab": {}
      },
      "source": [
        ""
      ],
      "execution_count": 0,
      "outputs": []
    }
  ]
}